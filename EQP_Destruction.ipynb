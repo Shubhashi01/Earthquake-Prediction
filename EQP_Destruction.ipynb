{
  "nbformat": 4,
  "nbformat_minor": 0,
  "metadata": {
    "colab": {
      "name": "Final EQP_Destruction.ipynb",
      "provenance": [],
      "collapsed_sections": []
    },
    "kernelspec": {
      "name": "python3",
      "display_name": "Python 3"
    },
    "language_info": {
      "name": "python"
    }
  },
  "cells": [
    {
      "cell_type": "markdown",
      "metadata": {
        "id": "l1waz8VeNTHf"
      },
      "source": [
        "## Overview Steps We have Use In Our Project:\n",
        "- Step 1 - Installing dependencies\n",
        "- Step 2 - Importing dataset\n",
        "- Step 3 - Exploratory data analysis\n",
        "- Step 4 - Feature engineering (statistical features added)\n",
        "- Step 5 - Implement \"Catboost\" model\n",
        "- Step 6 - Implement Support Vector Machine + Radial Basis Function model"
      ]
    },
    {
      "cell_type": "markdown",
      "metadata": {
        "id": "mkt4YaVvNzvg"
      },
      "source": [
        "## EarthQuake Prediction And Estimation Of Destruction\n",
        "\n",
        "- Predicting earthquakes has long been thought to be near-impossible. \n",
        "- Being able to predict earthquakes could allow us to better protect human life and property.\n"
      ]
    },
    {
      "cell_type": "markdown",
      "metadata": {
        "id": "UrRE2qalOYlV"
      },
      "source": [
        "- There are many ways to compute the magnitude of an earthquake!\n",
        "- A0 is the seismometer reading produced by an Earthquake of standard size (i.e., a calibration earthquake). Generally A0 is 0.001 mm. \n",
        "- This equation assumes that a distance of 100 km separates the seismometer and the epicentre\n",
        "![alt text](http://1.bp.blogspot.com/-wX1aS8tcJ6U/Tby9LlQkLiI/AAAAAAAAAZI/zA16efEl_qc/s200/Picture1.png)\n",
        "![alt text](http://exponential-logarithm-project.weebly.com/uploads/6/5/6/0/65601499/8320544.png?1447690096)\n",
        "![alt text](https://geology.com/records/largest-earthquake/global-seismic-moment-release.gif)\n",
        "![alt text](https://www.sott.net/image/s15/315072/full/ryzproductionsfuture_blogspot_.jpg)\n"
      ]
    },
    {
      "cell_type": "markdown",
      "metadata": {
        "id": "nmYgmDLCO4b7"
      },
      "source": [
        "# Step 1 - Install & Import Dependencies"
      ]
    },
    {
      "cell_type": "code",
      "metadata": {
        "colab": {
          "base_uri": "https://localhost:8080/"
        },
        "id": "SltzjgLnnNpv",
        "outputId": "e575a133-9a19-4762-9134-5c3ab165d83c"
      },
      "source": [
        "!pip install dc-stat-think"
      ],
      "execution_count": null,
      "outputs": [
        {
          "output_type": "stream",
          "text": [
            "Collecting dc-stat-think\n",
            "  Downloading dc_stat_think-1.1.1-py2.py3-none-any.whl (21 kB)\n",
            "Installing collected packages: dc-stat-think\n",
            "Successfully installed dc-stat-think-1.1.1\n"
          ],
          "name": "stdout"
        }
      ]
    },
    {
      "cell_type": "code",
      "metadata": {
        "id": "qnw8LKPHPHdk"
      },
      "source": [
        "#data preprocessing\n",
        "import pandas as pd\n",
        "#math operations\n",
        "import numpy as np\n",
        "import dc_stat_think as dcst\n",
        "#machine learning\n",
        "\n",
        "#data scaling\n",
        "from sklearn.preprocessing import StandardScaler\n",
        "#hyperparameter optimization\n",
        "from sklearn.model_selection import GridSearchCV\n",
        "#support vector machine model\n",
        "from sklearn.svm import NuSVR, SVR\n",
        "#kernel ridge model\n",
        "from sklearn.kernel_ridge import KernelRidge\n",
        "#data visualization\n",
        "import matplotlib.pyplot as plt\n",
        "import seaborn as sns"
      ],
      "execution_count": null,
      "outputs": []
    },
    {
      "cell_type": "markdown",
      "metadata": {
        "id": "h8KpmKNNTFKJ"
      },
      "source": [
        "# Step 2 - Loading Dataset"
      ]
    },
    {
      "cell_type": "code",
      "metadata": {
        "colab": {
          "resources": {
            "http://localhost:8080/nbextensions/google.colab/files.js": {
              "data": "Ly8gQ29weXJpZ2h0IDIwMTcgR29vZ2xlIExMQwovLwovLyBMaWNlbnNlZCB1bmRlciB0aGUgQXBhY2hlIExpY2Vuc2UsIFZlcnNpb24gMi4wICh0aGUgIkxpY2Vuc2UiKTsKLy8geW91IG1heSBub3QgdXNlIHRoaXMgZmlsZSBleGNlcHQgaW4gY29tcGxpYW5jZSB3aXRoIHRoZSBMaWNlbnNlLgovLyBZb3UgbWF5IG9idGFpbiBhIGNvcHkgb2YgdGhlIExpY2Vuc2UgYXQKLy8KLy8gICAgICBodHRwOi8vd3d3LmFwYWNoZS5vcmcvbGljZW5zZXMvTElDRU5TRS0yLjAKLy8KLy8gVW5sZXNzIHJlcXVpcmVkIGJ5IGFwcGxpY2FibGUgbGF3IG9yIGFncmVlZCB0byBpbiB3cml0aW5nLCBzb2Z0d2FyZQovLyBkaXN0cmlidXRlZCB1bmRlciB0aGUgTGljZW5zZSBpcyBkaXN0cmlidXRlZCBvbiBhbiAiQVMgSVMiIEJBU0lTLAovLyBXSVRIT1VUIFdBUlJBTlRJRVMgT1IgQ09ORElUSU9OUyBPRiBBTlkgS0lORCwgZWl0aGVyIGV4cHJlc3Mgb3IgaW1wbGllZC4KLy8gU2VlIHRoZSBMaWNlbnNlIGZvciB0aGUgc3BlY2lmaWMgbGFuZ3VhZ2UgZ292ZXJuaW5nIHBlcm1pc3Npb25zIGFuZAovLyBsaW1pdGF0aW9ucyB1bmRlciB0aGUgTGljZW5zZS4KCi8qKgogKiBAZmlsZW92ZXJ2aWV3IEhlbHBlcnMgZm9yIGdvb2dsZS5jb2xhYiBQeXRob24gbW9kdWxlLgogKi8KKGZ1bmN0aW9uKHNjb3BlKSB7CmZ1bmN0aW9uIHNwYW4odGV4dCwgc3R5bGVBdHRyaWJ1dGVzID0ge30pIHsKICBjb25zdCBlbGVtZW50ID0gZG9jdW1lbnQuY3JlYXRlRWxlbWVudCgnc3BhbicpOwogIGVsZW1lbnQudGV4dENvbnRlbnQgPSB0ZXh0OwogIGZvciAoY29uc3Qga2V5IG9mIE9iamVjdC5rZXlzKHN0eWxlQXR0cmlidXRlcykpIHsKICAgIGVsZW1lbnQuc3R5bGVba2V5XSA9IHN0eWxlQXR0cmlidXRlc1trZXldOwogIH0KICByZXR1cm4gZWxlbWVudDsKfQoKLy8gTWF4IG51bWJlciBvZiBieXRlcyB3aGljaCB3aWxsIGJlIHVwbG9hZGVkIGF0IGEgdGltZS4KY29uc3QgTUFYX1BBWUxPQURfU0laRSA9IDEwMCAqIDEwMjQ7CgpmdW5jdGlvbiBfdXBsb2FkRmlsZXMoaW5wdXRJZCwgb3V0cHV0SWQpIHsKICBjb25zdCBzdGVwcyA9IHVwbG9hZEZpbGVzU3RlcChpbnB1dElkLCBvdXRwdXRJZCk7CiAgY29uc3Qgb3V0cHV0RWxlbWVudCA9IGRvY3VtZW50LmdldEVsZW1lbnRCeUlkKG91dHB1dElkKTsKICAvLyBDYWNoZSBzdGVwcyBvbiB0aGUgb3V0cHV0RWxlbWVudCB0byBtYWtlIGl0IGF2YWlsYWJsZSBmb3IgdGhlIG5leHQgY2FsbAogIC8vIHRvIHVwbG9hZEZpbGVzQ29udGludWUgZnJvbSBQeXRob24uCiAgb3V0cHV0RWxlbWVudC5zdGVwcyA9IHN0ZXBzOwoKICByZXR1cm4gX3VwbG9hZEZpbGVzQ29udGludWUob3V0cHV0SWQpOwp9CgovLyBUaGlzIGlzIHJvdWdobHkgYW4gYXN5bmMgZ2VuZXJhdG9yIChub3Qgc3VwcG9ydGVkIGluIHRoZSBicm93c2VyIHlldCksCi8vIHdoZXJlIHRoZXJlIGFyZSBtdWx0aXBsZSBhc3luY2hyb25vdXMgc3RlcHMgYW5kIHRoZSBQeXRob24gc2lkZSBpcyBnb2luZwovLyB0byBwb2xsIGZvciBjb21wbGV0aW9uIG9mIGVhY2ggc3RlcC4KLy8gVGhpcyB1c2VzIGEgUHJvbWlzZSB0byBibG9jayB0aGUgcHl0aG9uIHNpZGUgb24gY29tcGxldGlvbiBvZiBlYWNoIHN0ZXAsCi8vIHRoZW4gcGFzc2VzIHRoZSByZXN1bHQgb2YgdGhlIHByZXZpb3VzIHN0ZXAgYXMgdGhlIGlucHV0IHRvIHRoZSBuZXh0IHN0ZXAuCmZ1bmN0aW9uIF91cGxvYWRGaWxlc0NvbnRpbnVlKG91dHB1dElkKSB7CiAgY29uc3Qgb3V0cHV0RWxlbWVudCA9IGRvY3VtZW50LmdldEVsZW1lbnRCeUlkKG91dHB1dElkKTsKICBjb25zdCBzdGVwcyA9IG91dHB1dEVsZW1lbnQuc3RlcHM7CgogIGNvbnN0IG5leHQgPSBzdGVwcy5uZXh0KG91dHB1dEVsZW1lbnQubGFzdFByb21pc2VWYWx1ZSk7CiAgcmV0dXJuIFByb21pc2UucmVzb2x2ZShuZXh0LnZhbHVlLnByb21pc2UpLnRoZW4oKHZhbHVlKSA9PiB7CiAgICAvLyBDYWNoZSB0aGUgbGFzdCBwcm9taXNlIHZhbHVlIHRvIG1ha2UgaXQgYXZhaWxhYmxlIHRvIHRoZSBuZXh0CiAgICAvLyBzdGVwIG9mIHRoZSBnZW5lcmF0b3IuCiAgICBvdXRwdXRFbGVtZW50Lmxhc3RQcm9taXNlVmFsdWUgPSB2YWx1ZTsKICAgIHJldHVybiBuZXh0LnZhbHVlLnJlc3BvbnNlOwogIH0pOwp9CgovKioKICogR2VuZXJhdG9yIGZ1bmN0aW9uIHdoaWNoIGlzIGNhbGxlZCBiZXR3ZWVuIGVhY2ggYXN5bmMgc3RlcCBvZiB0aGUgdXBsb2FkCiAqIHByb2Nlc3MuCiAqIEBwYXJhbSB7c3RyaW5nfSBpbnB1dElkIEVsZW1lbnQgSUQgb2YgdGhlIGlucHV0IGZpbGUgcGlja2VyIGVsZW1lbnQuCiAqIEBwYXJhbSB7c3RyaW5nfSBvdXRwdXRJZCBFbGVtZW50IElEIG9mIHRoZSBvdXRwdXQgZGlzcGxheS4KICogQHJldHVybiB7IUl0ZXJhYmxlPCFPYmplY3Q+fSBJdGVyYWJsZSBvZiBuZXh0IHN0ZXBzLgogKi8KZnVuY3Rpb24qIHVwbG9hZEZpbGVzU3RlcChpbnB1dElkLCBvdXRwdXRJZCkgewogIGNvbnN0IGlucHV0RWxlbWVudCA9IGRvY3VtZW50LmdldEVsZW1lbnRCeUlkKGlucHV0SWQpOwogIGlucHV0RWxlbWVudC5kaXNhYmxlZCA9IGZhbHNlOwoKICBjb25zdCBvdXRwdXRFbGVtZW50ID0gZG9jdW1lbnQuZ2V0RWxlbWVudEJ5SWQob3V0cHV0SWQpOwogIG91dHB1dEVsZW1lbnQuaW5uZXJIVE1MID0gJyc7CgogIGNvbnN0IHBpY2tlZFByb21pc2UgPSBuZXcgUHJvbWlzZSgocmVzb2x2ZSkgPT4gewogICAgaW5wdXRFbGVtZW50LmFkZEV2ZW50TGlzdGVuZXIoJ2NoYW5nZScsIChlKSA9PiB7CiAgICAgIHJlc29sdmUoZS50YXJnZXQuZmlsZXMpOwogICAgfSk7CiAgfSk7CgogIGNvbnN0IGNhbmNlbCA9IGRvY3VtZW50LmNyZWF0ZUVsZW1lbnQoJ2J1dHRvbicpOwogIGlucHV0RWxlbWVudC5wYXJlbnRFbGVtZW50LmFwcGVuZENoaWxkKGNhbmNlbCk7CiAgY2FuY2VsLnRleHRDb250ZW50ID0gJ0NhbmNlbCB1cGxvYWQnOwogIGNvbnN0IGNhbmNlbFByb21pc2UgPSBuZXcgUHJvbWlzZSgocmVzb2x2ZSkgPT4gewogICAgY2FuY2VsLm9uY2xpY2sgPSAoKSA9PiB7CiAgICAgIHJlc29sdmUobnVsbCk7CiAgICB9OwogIH0pOwoKICAvLyBXYWl0IGZvciB0aGUgdXNlciB0byBwaWNrIHRoZSBmaWxlcy4KICBjb25zdCBmaWxlcyA9IHlpZWxkIHsKICAgIHByb21pc2U6IFByb21pc2UucmFjZShbcGlja2VkUHJvbWlzZSwgY2FuY2VsUHJvbWlzZV0pLAogICAgcmVzcG9uc2U6IHsKICAgICAgYWN0aW9uOiAnc3RhcnRpbmcnLAogICAgfQogIH07CgogIGNhbmNlbC5yZW1vdmUoKTsKCiAgLy8gRGlzYWJsZSB0aGUgaW5wdXQgZWxlbWVudCBzaW5jZSBmdXJ0aGVyIHBpY2tzIGFyZSBub3QgYWxsb3dlZC4KICBpbnB1dEVsZW1lbnQuZGlzYWJsZWQgPSB0cnVlOwoKICBpZiAoIWZpbGVzKSB7CiAgICByZXR1cm4gewogICAgICByZXNwb25zZTogewogICAgICAgIGFjdGlvbjogJ2NvbXBsZXRlJywKICAgICAgfQogICAgfTsKICB9CgogIGZvciAoY29uc3QgZmlsZSBvZiBmaWxlcykgewogICAgY29uc3QgbGkgPSBkb2N1bWVudC5jcmVhdGVFbGVtZW50KCdsaScpOwogICAgbGkuYXBwZW5kKHNwYW4oZmlsZS5uYW1lLCB7Zm9udFdlaWdodDogJ2JvbGQnfSkpOwogICAgbGkuYXBwZW5kKHNwYW4oCiAgICAgICAgYCgke2ZpbGUudHlwZSB8fCAnbi9hJ30pIC0gJHtmaWxlLnNpemV9IGJ5dGVzLCBgICsKICAgICAgICBgbGFzdCBtb2RpZmllZDogJHsKICAgICAgICAgICAgZmlsZS5sYXN0TW9kaWZpZWREYXRlID8gZmlsZS5sYXN0TW9kaWZpZWREYXRlLnRvTG9jYWxlRGF0ZVN0cmluZygpIDoKICAgICAgICAgICAgICAgICAgICAgICAgICAgICAgICAgICAgJ24vYSd9IC0gYCkpOwogICAgY29uc3QgcGVyY2VudCA9IHNwYW4oJzAlIGRvbmUnKTsKICAgIGxpLmFwcGVuZENoaWxkKHBlcmNlbnQpOwoKICAgIG91dHB1dEVsZW1lbnQuYXBwZW5kQ2hpbGQobGkpOwoKICAgIGNvbnN0IGZpbGVEYXRhUHJvbWlzZSA9IG5ldyBQcm9taXNlKChyZXNvbHZlKSA9PiB7CiAgICAgIGNvbnN0IHJlYWRlciA9IG5ldyBGaWxlUmVhZGVyKCk7CiAgICAgIHJlYWRlci5vbmxvYWQgPSAoZSkgPT4gewogICAgICAgIHJlc29sdmUoZS50YXJnZXQucmVzdWx0KTsKICAgICAgfTsKICAgICAgcmVhZGVyLnJlYWRBc0FycmF5QnVmZmVyKGZpbGUpOwogICAgfSk7CiAgICAvLyBXYWl0IGZvciB0aGUgZGF0YSB0byBiZSByZWFkeS4KICAgIGxldCBmaWxlRGF0YSA9IHlpZWxkIHsKICAgICAgcHJvbWlzZTogZmlsZURhdGFQcm9taXNlLAogICAgICByZXNwb25zZTogewogICAgICAgIGFjdGlvbjogJ2NvbnRpbnVlJywKICAgICAgfQogICAgfTsKCiAgICAvLyBVc2UgYSBjaHVua2VkIHNlbmRpbmcgdG8gYXZvaWQgbWVzc2FnZSBzaXplIGxpbWl0cy4gU2VlIGIvNjIxMTU2NjAuCiAgICBsZXQgcG9zaXRpb24gPSAwOwogICAgZG8gewogICAgICBjb25zdCBsZW5ndGggPSBNYXRoLm1pbihmaWxlRGF0YS5ieXRlTGVuZ3RoIC0gcG9zaXRpb24sIE1BWF9QQVlMT0FEX1NJWkUpOwogICAgICBjb25zdCBjaHVuayA9IG5ldyBVaW50OEFycmF5KGZpbGVEYXRhLCBwb3NpdGlvbiwgbGVuZ3RoKTsKICAgICAgcG9zaXRpb24gKz0gbGVuZ3RoOwoKICAgICAgY29uc3QgYmFzZTY0ID0gYnRvYShTdHJpbmcuZnJvbUNoYXJDb2RlLmFwcGx5KG51bGwsIGNodW5rKSk7CiAgICAgIHlpZWxkIHsKICAgICAgICByZXNwb25zZTogewogICAgICAgICAgYWN0aW9uOiAnYXBwZW5kJywKICAgICAgICAgIGZpbGU6IGZpbGUubmFtZSwKICAgICAgICAgIGRhdGE6IGJhc2U2NCwKICAgICAgICB9LAogICAgICB9OwoKICAgICAgbGV0IHBlcmNlbnREb25lID0gZmlsZURhdGEuYnl0ZUxlbmd0aCA9PT0gMCA/CiAgICAgICAgICAxMDAgOgogICAgICAgICAgTWF0aC5yb3VuZCgocG9zaXRpb24gLyBmaWxlRGF0YS5ieXRlTGVuZ3RoKSAqIDEwMCk7CiAgICAgIHBlcmNlbnQudGV4dENvbnRlbnQgPSBgJHtwZXJjZW50RG9uZX0lIGRvbmVgOwoKICAgIH0gd2hpbGUgKHBvc2l0aW9uIDwgZmlsZURhdGEuYnl0ZUxlbmd0aCk7CiAgfQoKICAvLyBBbGwgZG9uZS4KICB5aWVsZCB7CiAgICByZXNwb25zZTogewogICAgICBhY3Rpb246ICdjb21wbGV0ZScsCiAgICB9CiAgfTsKfQoKc2NvcGUuZ29vZ2xlID0gc2NvcGUuZ29vZ2xlIHx8IHt9OwpzY29wZS5nb29nbGUuY29sYWIgPSBzY29wZS5nb29nbGUuY29sYWIgfHwge307CnNjb3BlLmdvb2dsZS5jb2xhYi5fZmlsZXMgPSB7CiAgX3VwbG9hZEZpbGVzLAogIF91cGxvYWRGaWxlc0NvbnRpbnVlLAp9Owp9KShzZWxmKTsK",
              "ok": true,
              "headers": [
                [
                  "content-type",
                  "application/javascript"
                ]
              ],
              "status": 200,
              "status_text": ""
            }
          },
          "base_uri": "https://localhost:8080/",
          "height": 73
        },
        "id": "baSl5MIYPltX",
        "outputId": "ebba934a-9cde-4d05-e3ad-6df96178136a"
      },
      "source": [
        "# Colab's file access feature\n",
        "from google.colab import files\n",
        "\n",
        "#retrieve uploaded file\n",
        "uploaded = files.upload()"
      ],
      "execution_count": null,
      "outputs": [
        {
          "output_type": "display_data",
          "data": {
            "text/html": [
              "\n",
              "     <input type=\"file\" id=\"files-ecc2b857-ab34-400e-9b2c-5e0bd9e6a55b\" name=\"files[]\" multiple disabled\n",
              "        style=\"border:none\" />\n",
              "     <output id=\"result-ecc2b857-ab34-400e-9b2c-5e0bd9e6a55b\">\n",
              "      Upload widget is only available when the cell has been executed in the\n",
              "      current browser session. Please rerun this cell to enable.\n",
              "      </output>\n",
              "      <script src=\"/nbextensions/google.colab/files.js\"></script> "
            ],
            "text/plain": [
              "<IPython.core.display.HTML object>"
            ]
          },
          "metadata": {
            "tags": []
          }
        },
        {
          "output_type": "stream",
          "text": [
            "Saving Earthquake[1].csv to Earthquake[1].csv\n"
          ],
          "name": "stdout"
        }
      ]
    },
    {
      "cell_type": "code",
      "metadata": {
        "id": "CVvBrZhyPoBM",
        "colab": {
          "base_uri": "https://localhost:8080/"
        },
        "outputId": "99aef2c1-941d-4bd2-9ce8-b1d8993cb2e9"
      },
      "source": [
        "df = pd.read_csv(\"Earthquake[1].csv\")\n",
        "\n",
        "print(df.columns)"
      ],
      "execution_count": null,
      "outputs": [
        {
          "output_type": "stream",
          "text": [
            "Index(['time', 'latitude', 'longitude', 'depth', 'mag', 'magType', 'nst',\n",
            "       'gap', 'dmin', 'rms', 'net', 'id', 'updated', 'place', 'type',\n",
            "       'horizontalError', 'depthError', 'magError', 'magNst', 'status',\n",
            "       'locationSource', 'magSource'],\n",
            "      dtype='object')\n"
          ],
          "name": "stdout"
        }
      ]
    },
    {
      "cell_type": "code",
      "metadata": {
        "id": "w66wZPgsWx19"
      },
      "source": [
        "df= df.drop(['updated'],axis=1)\n",
        "df= df.drop(['horizontalError'],axis=1)\n",
        "df= df.drop(['depthError'],axis=1)\n",
        "df= df.drop(['magError'],axis=1)\n",
        "df= df.drop(['magNst'],axis=1)\n",
        "df= df.drop(['status'],axis=1)\n",
        "df= df.drop(['locationSource'],axis=1)\n",
        "df= df.drop(['magSource'],axis=1)\n",
        "df= df.drop(['type'],axis=1)"
      ],
      "execution_count": null,
      "outputs": []
    },
    {
      "cell_type": "code",
      "metadata": {
        "colab": {
          "base_uri": "https://localhost:8080/"
        },
        "id": "TTxmrJpJerJg",
        "outputId": "dc6af90f-3e3f-4bdf-901b-59f0b3e6b7e2"
      },
      "source": [
        "df.place.unique()"
      ],
      "execution_count": null,
      "outputs": [
        {
          "output_type": "execute_result",
          "data": {
            "text/plain": [
              "array(['Bhutan', 'northwestern Kashmir', 'Myanmar-India border region',\n",
              "       ..., 'Arunachal Pradesh-Assam region, India',\n",
              "       'Assam - Nagaland region, India',\n",
              "       'Maharashtra-Karnataka border region, India'], dtype=object)"
            ]
          },
          "metadata": {
            "tags": []
          },
          "execution_count": 23
        }
      ]
    },
    {
      "cell_type": "code",
      "metadata": {
        "colab": {
          "base_uri": "https://localhost:8080/"
        },
        "id": "-tNsXLEeZ4DE",
        "outputId": "503c1763-2af8-4c1d-b2c4-770daf4e59e9"
      },
      "source": [
        "df.columns"
      ],
      "execution_count": null,
      "outputs": [
        {
          "output_type": "execute_result",
          "data": {
            "text/plain": [
              "Index(['time', 'latitude', 'longitude', 'depth', 'mag', 'magType', 'nst',\n",
              "       'gap', 'dmin', 'rms', 'net', 'id', 'updated', 'place', 'type',\n",
              "       'horizontalError', 'depthError', 'magError', 'magNst', 'status',\n",
              "       'locationSource', 'magSource'],\n",
              "      dtype='object')"
            ]
          },
          "metadata": {
            "tags": []
          },
          "execution_count": 24
        }
      ]
    },
    {
      "cell_type": "code",
      "metadata": {
        "colab": {
          "base_uri": "https://localhost:8080/"
        },
        "id": "t93dK-hStsaB",
        "outputId": "e2fc2014-8dba-40d0-9686-5f3742fb14d3"
      },
      "source": [
        "df.shape"
      ],
      "execution_count": null,
      "outputs": [
        {
          "output_type": "execute_result",
          "data": {
            "text/plain": [
              "(14698, 13)"
            ]
          },
          "metadata": {
            "tags": []
          },
          "execution_count": 9
        }
      ]
    },
    {
      "cell_type": "code",
      "metadata": {
        "id": "nBzKDPF-uD2I"
      },
      "source": [
        "df1=df.reset_index()['mag']"
      ],
      "execution_count": null,
      "outputs": []
    },
    {
      "cell_type": "code",
      "metadata": {
        "colab": {
          "base_uri": "https://localhost:8080/"
        },
        "id": "oTLmKcMLuQ6M",
        "outputId": "86c9beab-3e13-44c9-c3b9-39492230738e"
      },
      "source": [
        "df1"
      ],
      "execution_count": null,
      "outputs": [
        {
          "output_type": "execute_result",
          "data": {
            "text/plain": [
              "0        5.5\n",
              "1        4.0\n",
              "2        5.6\n",
              "3        4.4\n",
              "4        5.0\n",
              "        ... \n",
              "14693    4.6\n",
              "14694    4.7\n",
              "14695    4.0\n",
              "14696    4.9\n",
              "14697    5.2\n",
              "Name: mag, Length: 14698, dtype: float64"
            ]
          },
          "metadata": {
            "tags": []
          },
          "execution_count": 11
        }
      ]
    },
    {
      "cell_type": "code",
      "metadata": {
        "colab": {
          "base_uri": "https://localhost:8080/",
          "height": 285
        },
        "id": "1lrqMtN5uckP",
        "outputId": "deaee483-6a1b-4bb9-f53f-a69e06745960"
      },
      "source": [
        "import matplotlib.pyplot as plt\n",
        "plt.plot(df1)"
      ],
      "execution_count": null,
      "outputs": [
        {
          "output_type": "execute_result",
          "data": {
            "text/plain": [
              "[<matplotlib.lines.Line2D at 0x7f3ce7957e50>]"
            ]
          },
          "metadata": {
            "tags": []
          },
          "execution_count": 12
        },
        {
          "output_type": "display_data",
          "data": {
            "image/png": "[encoded data removed]",
            "text/plain": [
              "<Figure size 432x288 with 1 Axes>"
            ]
          },
          "metadata": {
            "tags": [],
            "needs_background": "light"
          }
        }
      ]
    },
    {
      "cell_type": "markdown",
      "metadata": {
        "id": "Qt8qNOSRuntK"
      },
      "source": [
        "#### LSTM are sensitive to the scale of the data. so we apply MinMax scaler"
      ]
    },
    {
      "cell_type": "code",
      "metadata": {
        "id": "cqMsxyiyusmR"
      },
      "source": [
        "from sklearn.preprocessing import MinMaxScaler\n",
        "scaler=MinMaxScaler(feature_range=(0,1))\n",
        "df1=scaler.fit_transform(np.array(df1).reshape(-1,1))"
      ],
      "execution_count": null,
      "outputs": []
    },
    {
      "cell_type": "code",
      "metadata": {
        "colab": {
          "base_uri": "https://localhost:8080/"
        },
        "id": "lFrq0vfLuySk",
        "outputId": "e61c7c34-7132-4a9c-8089-1477014600f6"
      },
      "source": [
        "print(df1)"
      ],
      "execution_count": null,
      "outputs": [
        {
          "output_type": "stream",
          "text": [
            "[[0.53061224]\n",
            " [0.2244898 ]\n",
            " [0.55102041]\n",
            " ...\n",
            " [0.2244898 ]\n",
            " [0.40816327]\n",
            " [0.46938776]]\n"
          ],
          "name": "stdout"
        }
      ]
    },
    {
      "cell_type": "code",
      "metadata": {
        "id": "URT-Lliiu6mL"
      },
      "source": [
        "##splitting dataset into train and test split\n",
        "training_size=int(len(df1)*0.65)\n",
        "test_size=len(df1)-training_size\n",
        "train_data,test_data=df1[0:training_size,:],df1[training_size:len(df1),:1]"
      ],
      "execution_count": null,
      "outputs": []
    },
    {
      "cell_type": "code",
      "metadata": {
        "colab": {
          "base_uri": "https://localhost:8080/"
        },
        "id": "6ZO1TIxCu-0O",
        "outputId": "9fb9229d-1dba-40ec-ea4e-fffab54f260f"
      },
      "source": [
        "training_size,test_size"
      ],
      "execution_count": null,
      "outputs": [
        {
          "output_type": "execute_result",
          "data": {
            "text/plain": [
              "(9553, 5145)"
            ]
          },
          "metadata": {
            "tags": []
          },
          "execution_count": 16
        }
      ]
    },
    {
      "cell_type": "code",
      "metadata": {
        "id": "U2jyToJGvFQh"
      },
      "source": [
        "import numpy\n",
        "# convert an array of values into a dataset matrix\n",
        "def create_dataset(dataset, time_step=1):\n",
        "\tdataX, dataY = [], []\n",
        "\tfor i in range(len(dataset)-time_step-1):\n",
        "\t\ta = dataset[i:(i+time_step), 0]   ###i=0, 0,1,2,3-----99   100 \n",
        "\t\tdataX.append(a)\n",
        "\t\tdataY.append(dataset[i + time_step, 0])\n",
        "\treturn numpy.array(dataX), numpy.array(dataY)"
      ],
      "execution_count": null,
      "outputs": []
    },
    {
      "cell_type": "code",
      "metadata": {
        "id": "ebQF7xm3vIeA"
      },
      "source": [
        "# reshape into X=t,t+1,t+2,t+3 and Y=t+4\n",
        "time_step = 100\n",
        "X_train, y_train = create_dataset(train_data, time_step)\n",
        "X_test, ytest = create_dataset(test_data, time_step)"
      ],
      "execution_count": null,
      "outputs": []
    },
    {
      "cell_type": "code",
      "metadata": {
        "colab": {
          "base_uri": "https://localhost:8080/"
        },
        "id": "OLo2ksyzvOG7",
        "outputId": "64356017-1385-4f3a-f9f2-4c001f17c9cf"
      },
      "source": [
        "print(X_train.shape), print(y_train.shape)"
      ],
      "execution_count": null,
      "outputs": [
        {
          "output_type": "stream",
          "text": [
            "(9452, 100)\n",
            "(9452,)\n"
          ],
          "name": "stdout"
        },
        {
          "output_type": "execute_result",
          "data": {
            "text/plain": [
              "(None, None)"
            ]
          },
          "metadata": {
            "tags": []
          },
          "execution_count": 19
        }
      ]
    },
    {
      "cell_type": "code",
      "metadata": {
        "colab": {
          "base_uri": "https://localhost:8080/"
        },
        "id": "J9a3TO9UvTV9",
        "outputId": "8e1fd6b9-cf18-4ada-d667-a8b5c9aa6b0a"
      },
      "source": [
        "print(X_test.shape), print(ytest.shape)"
      ],
      "execution_count": null,
      "outputs": [
        {
          "output_type": "stream",
          "text": [
            "(5044, 100)\n",
            "(5044,)\n"
          ],
          "name": "stdout"
        },
        {
          "output_type": "execute_result",
          "data": {
            "text/plain": [
              "(None, None)"
            ]
          },
          "metadata": {
            "tags": []
          },
          "execution_count": 20
        }
      ]
    },
    {
      "cell_type": "code",
      "metadata": {
        "id": "4V1Ah0yEvb4G"
      },
      "source": [
        "# reshape input to be [samples, time steps, features] which is required for LSTM\n",
        "X_train =X_train.reshape(X_train.shape[0],X_train.shape[1] , 1)\n",
        "X_test = X_test.reshape(X_test.shape[0],X_test.shape[1] , 1)"
      ],
      "execution_count": null,
      "outputs": []
    },
    {
      "cell_type": "code",
      "metadata": {
        "id": "CAUNdi7VvfNv"
      },
      "source": [
        "### Create the Stacked LSTM model\n",
        "from tensorflow.keras.models import Sequential\n",
        "from tensorflow.keras.layers import Dense\n",
        "from tensorflow.keras.layers import LSTM"
      ],
      "execution_count": null,
      "outputs": []
    },
    {
      "cell_type": "code",
      "metadata": {
        "id": "npZVl6CHvjy5"
      },
      "source": [
        "model=Sequential()\n",
        "model.add(LSTM(50,return_sequences=True,input_shape=(100,1)))\n",
        "model.add(LSTM(50,return_sequences=True))\n",
        "model.add(LSTM(50))\n",
        "model.add(Dense(1))\n",
        "model.compile(loss='mean_squared_error',optimizer='adam')\n"
      ],
      "execution_count": null,
      "outputs": []
    },
    {
      "cell_type": "code",
      "metadata": {
        "colab": {
          "base_uri": "https://localhost:8080/"
        },
        "id": "Zv0vSig5vokN",
        "outputId": "6206c3d5-f3f2-4141-9255-e02366313b52"
      },
      "source": [
        "model.summary()"
      ],
      "execution_count": null,
      "outputs": [
        {
          "output_type": "stream",
          "text": [
            "Model: \"sequential\"\n",
            "_________________________________________________________________\n",
            "Layer (type)                 Output Shape              Param #   \n",
            "=================================================================\n",
            "lstm (LSTM)                  (None, 100, 50)           10400     \n",
            "_________________________________________________________________\n",
            "lstm_1 (LSTM)                (None, 100, 50)           20200     \n",
            "_________________________________________________________________\n",
            "lstm_2 (LSTM)                (None, 50)                20200     \n",
            "_________________________________________________________________\n",
            "dense (Dense)                (None, 1)                 51        \n",
            "=================================================================\n",
            "Total params: 50,851\n",
            "Trainable params: 50,851\n",
            "Non-trainable params: 0\n",
            "_________________________________________________________________\n"
          ],
          "name": "stdout"
        }
      ]
    },
    {
      "cell_type": "code",
      "metadata": {
        "colab": {
          "base_uri": "https://localhost:8080/"
        },
        "id": "UfATn--wvqA2",
        "outputId": "36ce167d-1564-49bb-f19f-57703a9d588c"
      },
      "source": [
        "history = model.fit(X_train,y_train,validation_data=(X_test,ytest),epochs=100,batch_size=64,verbose=1)"
      ],
      "execution_count": null,
      "outputs": [
        {
          "output_type": "stream",
          "text": [
            "Epoch 1/100\n",
            "148/148 [==============================] - 32s 184ms/step - loss: 0.0112 - val_loss: 0.0076\n",
            "Epoch 2/100\n",
            "148/148 [==============================] - 27s 180ms/step - loss: 0.0098 - val_loss: 0.0074\n",
            "Epoch 3/100\n",
            "148/148 [==============================] - 26s 176ms/step - loss: 0.0098 - val_loss: 0.0074\n",
            "Epoch 4/100\n",
            "148/148 [==============================] - 27s 181ms/step - loss: 0.0097 - val_loss: 0.0076\n",
            "Epoch 5/100\n",
            "148/148 [==============================] - 26s 178ms/step - loss: 0.0096 - val_loss: 0.0090\n",
            "Epoch 6/100\n",
            "148/148 [==============================] - 27s 180ms/step - loss: 0.0096 - val_loss: 0.0077\n",
            "Epoch 7/100\n",
            "148/148 [==============================] - 27s 181ms/step - loss: 0.0097 - val_loss: 0.0075\n",
            "Epoch 8/100\n",
            "148/148 [==============================] - 28s 187ms/step - loss: 0.0095 - val_loss: 0.0075\n",
            "Epoch 9/100\n",
            "148/148 [==============================] - 26s 176ms/step - loss: 0.0095 - val_loss: 0.0074\n",
            "Epoch 10/100\n",
            "148/148 [==============================] - 27s 180ms/step - loss: 0.0095 - val_loss: 0.0074\n",
            "Epoch 11/100\n",
            "148/148 [==============================] - 27s 181ms/step - loss: 0.0096 - val_loss: 0.0074\n",
            "Epoch 12/100\n",
            "148/148 [==============================] - 26s 175ms/step - loss: 0.0095 - val_loss: 0.0074\n",
            "Epoch 13/100\n",
            "148/148 [==============================] - 27s 184ms/step - loss: 0.0094 - val_loss: 0.0076\n",
            "Epoch 14/100\n",
            "148/148 [==============================] - 26s 179ms/step - loss: 0.0095 - val_loss: 0.0082\n",
            "Epoch 15/100\n",
            "148/148 [==============================] - 28s 187ms/step - loss: 0.0094 - val_loss: 0.0078\n",
            "Epoch 16/100\n",
            "148/148 [==============================] - 26s 177ms/step - loss: 0.0094 - val_loss: 0.0074\n",
            "Epoch 17/100\n",
            "148/148 [==============================] - 26s 179ms/step - loss: 0.0093 - val_loss: 0.0074\n",
            "Epoch 18/100\n",
            "148/148 [==============================] - 27s 180ms/step - loss: 0.0094 - val_loss: 0.0078\n",
            "Epoch 19/100\n",
            "148/148 [==============================] - 27s 184ms/step - loss: 0.0093 - val_loss: 0.0074\n",
            "Epoch 20/100\n",
            "148/148 [==============================] - 26s 177ms/step - loss: 0.0093 - val_loss: 0.0077\n",
            "Epoch 21/100\n",
            "148/148 [==============================] - 26s 178ms/step - loss: 0.0094 - val_loss: 0.0081\n",
            "Epoch 22/100\n",
            "148/148 [==============================] - 27s 180ms/step - loss: 0.0095 - val_loss: 0.0074\n",
            "Epoch 23/100\n",
            "148/148 [==============================] - 26s 176ms/step - loss: 0.0093 - val_loss: 0.0075\n",
            "Epoch 24/100\n",
            "148/148 [==============================] - 27s 183ms/step - loss: 0.0093 - val_loss: 0.0073\n",
            "Epoch 25/100\n",
            "148/148 [==============================] - 25s 172ms/step - loss: 0.0094 - val_loss: 0.0074\n",
            "Epoch 26/100\n",
            "148/148 [==============================] - 26s 175ms/step - loss: 0.0094 - val_loss: 0.0073\n",
            "Epoch 27/100\n",
            "148/148 [==============================] - 26s 178ms/step - loss: 0.0094 - val_loss: 0.0074\n",
            "Epoch 28/100\n",
            "148/148 [==============================] - 26s 173ms/step - loss: 0.0093 - val_loss: 0.0075\n",
            "Epoch 29/100\n",
            "148/148 [==============================] - 27s 183ms/step - loss: 0.0094 - val_loss: 0.0076\n",
            "Epoch 30/100\n",
            "148/148 [==============================] - 26s 174ms/step - loss: 0.0094 - val_loss: 0.0073\n",
            "Epoch 31/100\n",
            "148/148 [==============================] - 26s 178ms/step - loss: 0.0093 - val_loss: 0.0075\n",
            "Epoch 32/100\n",
            "148/148 [==============================] - 26s 178ms/step - loss: 0.0093 - val_loss: 0.0075\n",
            "Epoch 33/100\n",
            "148/148 [==============================] - 28s 187ms/step - loss: 0.0094 - val_loss: 0.0074\n",
            "Epoch 34/100\n",
            "148/148 [==============================] - 26s 175ms/step - loss: 0.0094 - val_loss: 0.0075\n",
            "Epoch 35/100\n",
            "148/148 [==============================] - 27s 180ms/step - loss: 0.0093 - val_loss: 0.0075\n",
            "Epoch 36/100\n",
            "148/148 [==============================] - 26s 178ms/step - loss: 0.0093 - val_loss: 0.0073\n",
            "Epoch 37/100\n",
            "148/148 [==============================] - 25s 172ms/step - loss: 0.0093 - val_loss: 0.0076\n",
            "Epoch 38/100\n",
            "148/148 [==============================] - 27s 184ms/step - loss: 0.0093 - val_loss: 0.0073\n",
            "Epoch 39/100\n",
            "148/148 [==============================] - 26s 173ms/step - loss: 0.0093 - val_loss: 0.0073\n",
            "Epoch 40/100\n",
            "148/148 [==============================] - 27s 181ms/step - loss: 0.0093 - val_loss: 0.0073\n",
            "Epoch 41/100\n",
            "148/148 [==============================] - 26s 174ms/step - loss: 0.0093 - val_loss: 0.0073\n",
            "Epoch 42/100\n",
            "148/148 [==============================] - 26s 175ms/step - loss: 0.0093 - val_loss: 0.0073\n",
            "Epoch 43/100\n",
            "148/148 [==============================] - 27s 186ms/step - loss: 0.0093 - val_loss: 0.0075\n",
            "Epoch 44/100\n",
            "148/148 [==============================] - 27s 184ms/step - loss: 0.0093 - val_loss: 0.0073\n",
            "Epoch 45/100\n",
            "148/148 [==============================] - 26s 173ms/step - loss: 0.0093 - val_loss: 0.0073\n",
            "Epoch 46/100\n",
            "148/148 [==============================] - 26s 177ms/step - loss: 0.0093 - val_loss: 0.0073\n",
            "Epoch 47/100\n",
            "148/148 [==============================] - 27s 182ms/step - loss: 0.0092 - val_loss: 0.0073\n",
            "Epoch 48/100\n",
            "148/148 [==============================] - 27s 182ms/step - loss: 0.0092 - val_loss: 0.0073\n",
            "Epoch 49/100\n",
            "148/148 [==============================] - 27s 185ms/step - loss: 0.0092 - val_loss: 0.0073\n",
            "Epoch 50/100\n",
            "148/148 [==============================] - 26s 176ms/step - loss: 0.0093 - val_loss: 0.0075\n",
            "Epoch 51/100\n",
            "148/148 [==============================] - 26s 178ms/step - loss: 0.0093 - val_loss: 0.0073\n",
            "Epoch 52/100\n",
            "148/148 [==============================] - 27s 181ms/step - loss: 0.0092 - val_loss: 0.0072\n",
            "Epoch 53/100\n",
            "148/148 [==============================] - 26s 173ms/step - loss: 0.0092 - val_loss: 0.0074\n",
            "Epoch 54/100\n",
            "148/148 [==============================] - 27s 184ms/step - loss: 0.0092 - val_loss: 0.0072\n",
            "Epoch 55/100\n",
            "148/148 [==============================] - 26s 176ms/step - loss: 0.0092 - val_loss: 0.0072\n",
            "Epoch 56/100\n",
            "148/148 [==============================] - 27s 181ms/step - loss: 0.0092 - val_loss: 0.0072\n",
            "Epoch 57/100\n",
            "148/148 [==============================] - 27s 180ms/step - loss: 0.0092 - val_loss: 0.0072\n",
            "Epoch 58/100\n",
            "148/148 [==============================] - 27s 182ms/step - loss: 0.0092 - val_loss: 0.0073\n",
            "Epoch 59/100\n",
            "148/148 [==============================] - 26s 176ms/step - loss: 0.0092 - val_loss: 0.0072\n",
            "Epoch 60/100\n",
            "148/148 [==============================] - 26s 178ms/step - loss: 0.0092 - val_loss: 0.0073\n",
            "Epoch 61/100\n",
            "148/148 [==============================] - 26s 178ms/step - loss: 0.0092 - val_loss: 0.0072\n",
            "Epoch 62/100\n",
            "148/148 [==============================] - 26s 173ms/step - loss: 0.0092 - val_loss: 0.0073\n",
            "Epoch 63/100\n",
            "148/148 [==============================] - 27s 183ms/step - loss: 0.0091 - val_loss: 0.0073\n",
            "Epoch 64/100\n",
            "148/148 [==============================] - 26s 178ms/step - loss: 0.0092 - val_loss: 0.0073\n",
            "Epoch 65/100\n",
            "148/148 [==============================] - 27s 181ms/step - loss: 0.0092 - val_loss: 0.0072\n",
            "Epoch 66/100\n",
            "148/148 [==============================] - 27s 181ms/step - loss: 0.0092 - val_loss: 0.0072\n",
            "Epoch 67/100\n",
            "148/148 [==============================] - 27s 180ms/step - loss: 0.0092 - val_loss: 0.0075\n",
            "Epoch 68/100\n",
            "148/148 [==============================] - 27s 183ms/step - loss: 0.0092 - val_loss: 0.0072\n",
            "Epoch 69/100\n",
            "148/148 [==============================] - 27s 180ms/step - loss: 0.0092 - val_loss: 0.0073\n",
            "Epoch 70/100\n",
            "148/148 [==============================] - 25s 171ms/step - loss: 0.0092 - val_loss: 0.0072\n",
            "Epoch 71/100\n",
            "148/148 [==============================] - 26s 176ms/step - loss: 0.0092 - val_loss: 0.0073\n",
            "Epoch 72/100\n",
            "148/148 [==============================] - 27s 180ms/step - loss: 0.0092 - val_loss: 0.0073\n",
            "Epoch 73/100\n",
            "148/148 [==============================] - 26s 176ms/step - loss: 0.0091 - val_loss: 0.0072\n",
            "Epoch 74/100\n",
            "148/148 [==============================] - 27s 185ms/step - loss: 0.0092 - val_loss: 0.0073\n",
            "Epoch 75/100\n",
            "148/148 [==============================] - 26s 177ms/step - loss: 0.0092 - val_loss: 0.0073\n",
            "Epoch 76/100\n",
            "148/148 [==============================] - 26s 176ms/step - loss: 0.0092 - val_loss: 0.0073\n",
            "Epoch 77/100\n",
            "148/148 [==============================] - 27s 183ms/step - loss: 0.0092 - val_loss: 0.0072\n",
            "Epoch 78/100\n",
            "148/148 [==============================] - 27s 180ms/step - loss: 0.0091 - val_loss: 0.0073\n",
            "Epoch 79/100\n",
            "148/148 [==============================] - 27s 182ms/step - loss: 0.0092 - val_loss: 0.0072\n",
            "Epoch 80/100\n",
            "148/148 [==============================] - 26s 179ms/step - loss: 0.0091 - val_loss: 0.0076\n",
            "Epoch 81/100\n",
            "148/148 [==============================] - 27s 180ms/step - loss: 0.0091 - val_loss: 0.0074\n",
            "Epoch 82/100\n",
            "148/148 [==============================] - 27s 182ms/step - loss: 0.0092 - val_loss: 0.0075\n",
            "Epoch 83/100\n",
            "148/148 [==============================] - 27s 181ms/step - loss: 0.0091 - val_loss: 0.0072\n",
            "Epoch 84/100\n",
            "148/148 [==============================] - 26s 177ms/step - loss: 0.0091 - val_loss: 0.0072\n",
            "Epoch 85/100\n",
            "148/148 [==============================] - 27s 183ms/step - loss: 0.0091 - val_loss: 0.0072\n",
            "Epoch 86/100\n",
            "148/148 [==============================] - 26s 175ms/step - loss: 0.0091 - val_loss: 0.0072\n",
            "Epoch 87/100\n",
            "148/148 [==============================] - 27s 179ms/step - loss: 0.0091 - val_loss: 0.0074\n",
            "Epoch 88/100\n",
            "148/148 [==============================] - 27s 184ms/step - loss: 0.0091 - val_loss: 0.0072\n",
            "Epoch 89/100\n",
            "148/148 [==============================] - 26s 175ms/step - loss: 0.0091 - val_loss: 0.0072\n",
            "Epoch 90/100\n",
            "148/148 [==============================] - 27s 182ms/step - loss: 0.0092 - val_loss: 0.0073\n",
            "Epoch 91/100\n",
            "148/148 [==============================] - 26s 177ms/step - loss: 0.0092 - val_loss: 0.0073\n",
            "Epoch 92/100\n",
            "148/148 [==============================] - 27s 180ms/step - loss: 0.0091 - val_loss: 0.0072\n",
            "Epoch 93/100\n",
            "148/148 [==============================] - 27s 181ms/step - loss: 0.0092 - val_loss: 0.0072\n",
            "Epoch 94/100\n",
            "148/148 [==============================] - 28s 186ms/step - loss: 0.0091 - val_loss: 0.0072\n",
            "Epoch 95/100\n",
            "148/148 [==============================] - 26s 174ms/step - loss: 0.0091 - val_loss: 0.0072\n",
            "Epoch 96/100\n",
            "148/148 [==============================] - 27s 180ms/step - loss: 0.0091 - val_loss: 0.0072\n",
            "Epoch 97/100\n",
            "148/148 [==============================] - 27s 180ms/step - loss: 0.0091 - val_loss: 0.0072\n",
            "Epoch 98/100\n",
            "148/148 [==============================] - 26s 177ms/step - loss: 0.0091 - val_loss: 0.0072\n",
            "Epoch 99/100\n",
            "148/148 [==============================] - 27s 181ms/step - loss: 0.0091 - val_loss: 0.0073\n",
            "Epoch 100/100\n",
            "148/148 [==============================] - 26s 177ms/step - loss: 0.0091 - val_loss: 0.0072\n"
          ],
          "name": "stdout"
        }
      ]
    },
    {
      "cell_type": "code",
      "metadata": {
        "colab": {
          "base_uri": "https://localhost:8080/",
          "height": 295
        },
        "id": "TjkAcCHC5Yx8",
        "outputId": "d1679fa5-2922-400b-bfb9-990e950bfcf7"
      },
      "source": [
        "# Plot history: MSE & (LOSS and Val_LOSS)\n",
        "import matplotlib.pyplot as plt\n",
        "\n",
        "plt.plot(history.history['loss'], label='LOSS')\n",
        "plt.plot(history.history['val_loss'], label='Val_LOSS')\n",
        "plt.title('Model performance for LSTM In EarthQuake Prediction')\n",
        "plt.ylabel('Loss value')\n",
        "plt.xlabel('No. epoch')\n",
        "plt.legend()\n",
        "plt.show()"
      ],
      "execution_count": null,
      "outputs": [
        {
          "output_type": "display_data",
          "data": {
            "image/png": "[encoded data removed]",
            "text/plain": [
              "<Figure size 432x288 with 1 Axes>"
            ]
          },
          "metadata": {
            "tags": [],
            "needs_background": "light"
          }
        }
      ]
    },
    {
      "cell_type": "code",
      "metadata": {
        "id": "bXHB-CTt_Y-r",
        "colab": {
          "base_uri": "https://localhost:8080/",
          "height": 35
        },
        "outputId": "8ef21a73-4bf9-45ac-a974-6efe1580535e"
      },
      "source": [
        "import tensorflow as tf\n",
        "\n",
        "tf.__version__"
      ],
      "execution_count": null,
      "outputs": [
        {
          "output_type": "execute_result",
          "data": {
            "application/vnd.google.colaboratory.intrinsic+json": {
              "type": "string"
            },
            "text/plain": [
              "'2.5.0'"
            ]
          },
          "metadata": {
            "tags": []
          },
          "execution_count": 25
        }
      ]
    },
    {
      "cell_type": "code",
      "metadata": {
        "id": "1sKSZBEnrq5-"
      },
      "source": [
        "### Lets Do the prediction and check performance metrics\n",
        "train_predict=model.predict(X_train)\n",
        "test_predict=model.predict(X_test)"
      ],
      "execution_count": null,
      "outputs": []
    },
    {
      "cell_type": "code",
      "metadata": {
        "id": "uC2ODwP-_aZC"
      },
      "source": [
        "##Transformback to original form\n",
        "train_predict=scaler.inverse_transform(train_predict)\n",
        "test_predict=scaler.inverse_transform(test_predict)"
      ],
      "execution_count": null,
      "outputs": []
    },
    {
      "cell_type": "code",
      "metadata": {
        "colab": {
          "base_uri": "https://localhost:8080/"
        },
        "id": "FGhODdKVr03z",
        "outputId": "34471bb3-8368-4215-d14e-53034bdb5a08"
      },
      "source": [
        "### Calculate RMSE performance metrics\n",
        "import math\n",
        "from sklearn.metrics import mean_squared_error\n",
        "math.sqrt(mean_squared_error(y_train,train_predict))"
      ],
      "execution_count": null,
      "outputs": [
        {
          "output_type": "execute_result",
          "data": {
            "text/plain": [
              "3.964171247598356"
            ]
          },
          "metadata": {
            "tags": []
          },
          "execution_count": 28
        }
      ]
    },
    {
      "cell_type": "code",
      "metadata": {
        "colab": {
          "base_uri": "https://localhost:8080/"
        },
        "id": "gPgQ6MgFr3fM",
        "outputId": "1448b48b-e7c2-4617-c4c0-14b7e08c9ade"
      },
      "source": [
        "### Test Data RMSE\n",
        "math.sqrt(mean_squared_error(ytest,test_predict))"
      ],
      "execution_count": null,
      "outputs": [
        {
          "output_type": "execute_result",
          "data": {
            "text/plain": [
              "4.016640129376666"
            ]
          },
          "metadata": {
            "tags": []
          },
          "execution_count": 29
        }
      ]
    },
    {
      "cell_type": "code",
      "metadata": {
        "colab": {
          "base_uri": "https://localhost:8080/",
          "height": 268
        },
        "id": "IBgdA9BUr8Oy",
        "outputId": "aa586d82-4f73-4a63-b18a-829db8d8363f"
      },
      "source": [
        "### Plotting \n",
        "# shift train predictions for plotting\n",
        "look_back=100\n",
        "trainPredictPlot = numpy.empty_like(df1)\n",
        "trainPredictPlot[:, :] = np.nan\n",
        "trainPredictPlot[look_back:len(train_predict)+look_back, :] = train_predict\n",
        "# shift test predictions for plotting\n",
        "testPredictPlot = numpy.empty_like(df1)\n",
        "testPredictPlot[:, :] = numpy.nan\n",
        "testPredictPlot[len(train_predict)+(look_back*2)+1:len(df1)-1, :] = test_predict\n",
        "# plot baseline and predictions\n",
        "plt.plot(scaler.inverse_transform(df1))\n",
        "plt.plot(trainPredictPlot)\n",
        "plt.plot(testPredictPlot)\n",
        "plt.show()"
      ],
      "execution_count": null,
      "outputs": [
        {
          "output_type": "display_data",
          "data": {
            "image/png": "[encoded data removed]",
            "text/plain": [
              "<Figure size 432x288 with 1 Axes>"
            ]
          },
          "metadata": {
            "tags": [],
            "needs_background": "light"
          }
        }
      ]
    },
    {
      "cell_type": "code",
      "metadata": {
        "id": "eX-x3s935Wqm"
      },
      "source": [
        ""
      ],
      "execution_count": null,
      "outputs": []
    },
    {
      "cell_type": "code",
      "metadata": {
        "colab": {
          "base_uri": "https://localhost:8080/"
        },
        "id": "EPnPGxdE7IGN",
        "outputId": "2233fa9f-21b6-428a-f16f-8a589094ee36"
      },
      "source": [
        "len(test_data)"
      ],
      "execution_count": null,
      "outputs": [
        {
          "output_type": "execute_result",
          "data": {
            "text/plain": [
              "5145"
            ]
          },
          "metadata": {
            "tags": []
          },
          "execution_count": 32
        }
      ]
    },
    {
      "cell_type": "code",
      "metadata": {
        "colab": {
          "base_uri": "https://localhost:8080/"
        },
        "id": "bLZqjG0v7MjA",
        "outputId": "6e4c8ea0-13cd-4a79-e56a-221802364fca"
      },
      "source": [
        "x_input=test_data[5046:].reshape(1,-1)\n",
        "x_input.shape"
      ],
      "execution_count": null,
      "outputs": [
        {
          "output_type": "execute_result",
          "data": {
            "text/plain": [
              "(1, 99)"
            ]
          },
          "metadata": {
            "tags": []
          },
          "execution_count": 33
        }
      ]
    },
    {
      "cell_type": "code",
      "metadata": {
        "id": "jYdxdhYt7c7k"
      },
      "source": [
        "temp_input=list(x_input)\n",
        "temp_input=temp_input[0].tolist()"
      ],
      "execution_count": null,
      "outputs": []
    },
    {
      "cell_type": "code",
      "metadata": {
        "colab": {
          "base_uri": "https://localhost:8080/"
        },
        "id": "MmQWuUKK7h5D",
        "outputId": "cd4e0ef5-4178-4266-f02b-cc71b0094535"
      },
      "source": [
        "temp_input"
      ],
      "execution_count": null,
      "outputs": [
        {
          "output_type": "execute_result",
          "data": {
            "text/plain": [
              "[0.26530612244897966,\n",
              " 0.4285714285714285,\n",
              " 0.2448979591836734,\n",
              " 0.6530612244897959,\n",
              " 0.2448979591836734,\n",
              " 0.326530612244898,\n",
              " 0.4693877551020408,\n",
              " 0.40816326530612257,\n",
              " 0.5102040816326531,\n",
              " 0.816326530612245,\n",
              " 0.40816326530612257,\n",
              " 0.4693877551020408,\n",
              " 0.3877551020408163,\n",
              " 0.3877551020408163,\n",
              " 0.3877551020408163,\n",
              " 0.3673469387755103,\n",
              " 0.30612244897959195,\n",
              " 0.2857142857142857,\n",
              " 0.22448979591836737,\n",
              " 0.4285714285714285,\n",
              " 0.326530612244898,\n",
              " 0.40816326530612257,\n",
              " 0.22448979591836737,\n",
              " 0.30612244897959195,\n",
              " 0.30612244897959195,\n",
              " 0.7551020408163264,\n",
              " 0.26530612244897966,\n",
              " 0.2448979591836734,\n",
              " 0.326530612244898,\n",
              " 0.2857142857142857,\n",
              " 0.5102040816326531,\n",
              " 0.5714285714285715,\n",
              " 0.2448979591836734,\n",
              " 0.26530612244897966,\n",
              " 0.30612244897959195,\n",
              " 0.326530612244898,\n",
              " 0.4285714285714285,\n",
              " 0.326530612244898,\n",
              " 0.326530612244898,\n",
              " 0.40816326530612257,\n",
              " 0.40816326530612257,\n",
              " 0.326530612244898,\n",
              " 0.30612244897959195,\n",
              " 0.4693877551020408,\n",
              " 0.326530612244898,\n",
              " 0.3673469387755103,\n",
              " 0.3673469387755103,\n",
              " 0.3673469387755103,\n",
              " 0.5306122448979592,\n",
              " 0.26530612244897966,\n",
              " 0.44897959183673464,\n",
              " 0.26530612244897966,\n",
              " 0.2857142857142857,\n",
              " 0.30612244897959195,\n",
              " 0.2857142857142857,\n",
              " 0.3877551020408163,\n",
              " 0.2448979591836734,\n",
              " 0.3673469387755103,\n",
              " 0.22448979591836737,\n",
              " 0.26530612244897966,\n",
              " 0.5714285714285715,\n",
              " 0.346938775510204,\n",
              " 0.44897959183673464,\n",
              " 0.2857142857142857,\n",
              " 0.30612244897959195,\n",
              " 0.40816326530612257,\n",
              " 0.22448979591836737,\n",
              " 0.40816326530612257,\n",
              " 0.3673469387755103,\n",
              " 0.346938775510204,\n",
              " 0.26530612244897966,\n",
              " 0.3673469387755103,\n",
              " 0.326530612244898,\n",
              " 0.3877551020408163,\n",
              " 0.26530612244897966,\n",
              " 0.3877551020408163,\n",
              " 0.26530612244897966,\n",
              " 0.4897959183673469,\n",
              " 0.2448979591836734,\n",
              " 0.3673469387755103,\n",
              " 0.346938775510204,\n",
              " 0.346938775510204,\n",
              " 0.326530612244898,\n",
              " 0.30612244897959195,\n",
              " 0.3673469387755103,\n",
              " 0.4285714285714285,\n",
              " 0.26530612244897966,\n",
              " 0.3877551020408163,\n",
              " 0.2448979591836734,\n",
              " 0.44897959183673464,\n",
              " 0.346938775510204,\n",
              " 0.40816326530612257,\n",
              " 0.40816326530612257,\n",
              " 0.26530612244897966,\n",
              " 0.346938775510204,\n",
              " 0.3673469387755103,\n",
              " 0.22448979591836737,\n",
              " 0.40816326530612257,\n",
              " 0.4693877551020408]"
            ]
          },
          "metadata": {
            "tags": []
          },
          "execution_count": 35
        }
      ]
    },
    {
      "cell_type": "code",
      "metadata": {
        "colab": {
          "base_uri": "https://localhost:8080/"
        },
        "id": "Dobm43qg7lFp",
        "outputId": "9a106681-a010-4a49-c9f0-7f0aadd7bbc5"
      },
      "source": [
        "from numpy import array\n",
        "\n",
        "lst_output=[]\n",
        "n_steps=100\n",
        "i=0\n",
        "while(i<30):\n",
        "    \n",
        "    if(len(temp_input)>100):\n",
        "        #print(temp_input)\n",
        "        x_input=np.array(temp_input[1:])\n",
        "        print(\"{} year input {}\".format(i,x_input))\n",
        "        x_input=x_input.reshape(1,-1)\n",
        "        x_input = x_input.reshape((1, n_steps, 1))\n",
        "        #print(x_input)\n",
        "        yhat = model.predict(x_input, verbose=0)\n",
        "        print(\"{} year output {}\".format(i,yhat))\n",
        "        temp_input.extend(yhat[0].tolist())\n",
        "        temp_input=temp_input[1:]\n",
        "        #print(temp_input)\n",
        "        lst_output.extend(yhat.tolist())\n",
        "        i=i+1\n",
        "    else:\n",
        "        x_input = x_input.reshape((1, n_steps,1))\n",
        "        yhat = model.predict(x_input, verbose=0)\n",
        "        print(yhat[0])\n",
        "        temp_input.extend(yhat[0].tolist())\n",
        "        print(len(temp_input))\n",
        "        lst_output.extend(yhat.tolist())\n",
        "        i=i+1\n",
        "\n",
        "print(lst_output)\n"
      ],
      "execution_count": null,
      "outputs": [
        {
          "output_type": "stream",
          "text": [
            "0 year input [0.46938776 0.32653061 0.36734694 0.36734694 0.36734694 0.53061224\n",
            " 0.26530612 0.44897959 0.26530612 0.28571429 0.30612245 0.28571429\n",
            " 0.3877551  0.24489796 0.36734694 0.2244898  0.26530612 0.57142857\n",
            " 0.34693878 0.44897959 0.28571429 0.30612245 0.40816327 0.2244898\n",
            " 0.40816327 0.36734694 0.34693878 0.26530612 0.36734694 0.32653061\n",
            " 0.3877551  0.26530612 0.3877551  0.26530612 0.48979592 0.24489796\n",
            " 0.36734694 0.34693878 0.34693878 0.32653061 0.30612245 0.36734694\n",
            " 0.42857143 0.26530612 0.3877551  0.24489796 0.44897959 0.34693878\n",
            " 0.40816327 0.40816327 0.26530612 0.34693878 0.36734694 0.2244898\n",
            " 0.40816327 0.46938776 0.32616693 0.32616693 0.32307282 0.32197884\n",
            " 0.32113865 0.32034022 0.31958035 0.3189221  0.3184287  0.31811965\n",
            " 0.31796259 0.31788704 0.31782159 0.31769621 0.31747264 0.3171424\n",
            " 0.31672457 0.31625539 0.31577626 0.31532201 0.31491679 0.31456792\n",
            " 0.31427547 0.31402501 0.31380126 0.31358317 0.31335476 0.31309852\n",
            " 0.31282228 0.31251904 0.31219155 0.31184804 0.31149337 0.31113377\n",
            " 0.31078085 0.31043211 0.31008819 0.30974823 0.30940962 0.30907202\n",
            " 0.3087329  0.30839002 0.30804425 0.30769813]\n",
            "0 year output [[0.30735204]]\n",
            "1 year input [0.32653061 0.36734694 0.36734694 0.36734694 0.53061224 0.26530612\n",
            " 0.44897959 0.26530612 0.28571429 0.30612245 0.28571429 0.3877551\n",
            " 0.24489796 0.36734694 0.2244898  0.26530612 0.57142857 0.34693878\n",
            " 0.44897959 0.28571429 0.30612245 0.40816327 0.2244898  0.40816327\n",
            " 0.36734694 0.34693878 0.26530612 0.36734694 0.32653061 0.3877551\n",
            " 0.26530612 0.3877551  0.26530612 0.48979592 0.24489796 0.36734694\n",
            " 0.34693878 0.34693878 0.32653061 0.30612245 0.36734694 0.42857143\n",
            " 0.26530612 0.3877551  0.24489796 0.44897959 0.34693878 0.40816327\n",
            " 0.40816327 0.26530612 0.34693878 0.36734694 0.2244898  0.40816327\n",
            " 0.46938776 0.32616693 0.32616693 0.32307282 0.32197884 0.32113865\n",
            " 0.32034022 0.31958035 0.3189221  0.3184287  0.31811965 0.31796259\n",
            " 0.31788704 0.31782159 0.31769621 0.31747264 0.3171424  0.31672457\n",
            " 0.31625539 0.31577626 0.31532201 0.31491679 0.31456792 0.31427547\n",
            " 0.31402501 0.31380126 0.31358317 0.31335476 0.31309852 0.31282228\n",
            " 0.31251904 0.31219155 0.31184804 0.31149337 0.31113377 0.31078085\n",
            " 0.31043211 0.31008819 0.30974823 0.30940962 0.30907202 0.3087329\n",
            " 0.30839002 0.30804425 0.30769813 0.30735204]\n",
            "1 year output [[0.30700356]]\n",
            "2 year input [0.36734694 0.36734694 0.36734694 0.53061224 0.26530612 0.44897959\n",
            " 0.26530612 0.28571429 0.30612245 0.28571429 0.3877551  0.24489796\n",
            " 0.36734694 0.2244898  0.26530612 0.57142857 0.34693878 0.44897959\n",
            " 0.28571429 0.30612245 0.40816327 0.2244898  0.40816327 0.36734694\n",
            " 0.34693878 0.26530612 0.36734694 0.32653061 0.3877551  0.26530612\n",
            " 0.3877551  0.26530612 0.48979592 0.24489796 0.36734694 0.34693878\n",
            " 0.34693878 0.32653061 0.30612245 0.36734694 0.42857143 0.26530612\n",
            " 0.3877551  0.24489796 0.44897959 0.34693878 0.40816327 0.40816327\n",
            " 0.26530612 0.34693878 0.36734694 0.2244898  0.40816327 0.46938776\n",
            " 0.32616693 0.32616693 0.32307282 0.32197884 0.32113865 0.32034022\n",
            " 0.31958035 0.3189221  0.3184287  0.31811965 0.31796259 0.31788704\n",
            " 0.31782159 0.31769621 0.31747264 0.3171424  0.31672457 0.31625539\n",
            " 0.31577626 0.31532201 0.31491679 0.31456792 0.31427547 0.31402501\n",
            " 0.31380126 0.31358317 0.31335476 0.31309852 0.31282228 0.31251904\n",
            " 0.31219155 0.31184804 0.31149337 0.31113377 0.31078085 0.31043211\n",
            " 0.31008819 0.30974823 0.30940962 0.30907202 0.3087329  0.30839002\n",
            " 0.30804425 0.30769813 0.30735204 0.30700356]\n",
            "2 year output [[0.3066608]]\n",
            "3 year input [0.36734694 0.36734694 0.53061224 0.26530612 0.44897959 0.26530612\n",
            " 0.28571429 0.30612245 0.28571429 0.3877551  0.24489796 0.36734694\n",
            " 0.2244898  0.26530612 0.57142857 0.34693878 0.44897959 0.28571429\n",
            " 0.30612245 0.40816327 0.2244898  0.40816327 0.36734694 0.34693878\n",
            " 0.26530612 0.36734694 0.32653061 0.3877551  0.26530612 0.3877551\n",
            " 0.26530612 0.48979592 0.24489796 0.36734694 0.34693878 0.34693878\n",
            " 0.32653061 0.30612245 0.36734694 0.42857143 0.26530612 0.3877551\n",
            " 0.24489796 0.44897959 0.34693878 0.40816327 0.40816327 0.26530612\n",
            " 0.34693878 0.36734694 0.2244898  0.40816327 0.46938776 0.32616693\n",
            " 0.32616693 0.32307282 0.32197884 0.32113865 0.32034022 0.31958035\n",
            " 0.3189221  0.3184287  0.31811965 0.31796259 0.31788704 0.31782159\n",
            " 0.31769621 0.31747264 0.3171424  0.31672457 0.31625539 0.31577626\n",
            " 0.31532201 0.31491679 0.31456792 0.31427547 0.31402501 0.31380126\n",
            " 0.31358317 0.31335476 0.31309852 0.31282228 0.31251904 0.31219155\n",
            " 0.31184804 0.31149337 0.31113377 0.31078085 0.31043211 0.31008819\n",
            " 0.30974823 0.30940962 0.30907202 0.3087329  0.30839002 0.30804425\n",
            " 0.30769813 0.30735204 0.30700356 0.3066608 ]\n",
            "3 year output [[0.30632162]]\n",
            "4 year input [0.36734694 0.53061224 0.26530612 0.44897959 0.26530612 0.28571429\n",
            " 0.30612245 0.28571429 0.3877551  0.24489796 0.36734694 0.2244898\n",
            " 0.26530612 0.57142857 0.34693878 0.44897959 0.28571429 0.30612245\n",
            " 0.40816327 0.2244898  0.40816327 0.36734694 0.34693878 0.26530612\n",
            " 0.36734694 0.32653061 0.3877551  0.26530612 0.3877551  0.26530612\n",
            " 0.48979592 0.24489796 0.36734694 0.34693878 0.34693878 0.32653061\n",
            " 0.30612245 0.36734694 0.42857143 0.26530612 0.3877551  0.24489796\n",
            " 0.44897959 0.34693878 0.40816327 0.40816327 0.26530612 0.34693878\n",
            " 0.36734694 0.2244898  0.40816327 0.46938776 0.32616693 0.32616693\n",
            " 0.32307282 0.32197884 0.32113865 0.32034022 0.31958035 0.3189221\n",
            " 0.3184287  0.31811965 0.31796259 0.31788704 0.31782159 0.31769621\n",
            " 0.31747264 0.3171424  0.31672457 0.31625539 0.31577626 0.31532201\n",
            " 0.31491679 0.31456792 0.31427547 0.31402501 0.31380126 0.31358317\n",
            " 0.31335476 0.31309852 0.31282228 0.31251904 0.31219155 0.31184804\n",
            " 0.31149337 0.31113377 0.31078085 0.31043211 0.31008819 0.30974823\n",
            " 0.30940962 0.30907202 0.3087329  0.30839002 0.30804425 0.30769813\n",
            " 0.30735204 0.30700356 0.3066608  0.30632162]\n",
            "4 year output [[0.3059877]]\n",
            "5 year input [0.53061224 0.26530612 0.44897959 0.26530612 0.28571429 0.30612245\n",
            " 0.28571429 0.3877551  0.24489796 0.36734694 0.2244898  0.26530612\n",
            " 0.57142857 0.34693878 0.44897959 0.28571429 0.30612245 0.40816327\n",
            " 0.2244898  0.40816327 0.36734694 0.34693878 0.26530612 0.36734694\n",
            " 0.32653061 0.3877551  0.26530612 0.3877551  0.26530612 0.48979592\n",
            " 0.24489796 0.36734694 0.34693878 0.34693878 0.32653061 0.30612245\n",
            " 0.36734694 0.42857143 0.26530612 0.3877551  0.24489796 0.44897959\n",
            " 0.34693878 0.40816327 0.40816327 0.26530612 0.34693878 0.36734694\n",
            " 0.2244898  0.40816327 0.46938776 0.32616693 0.32616693 0.32307282\n",
            " 0.32197884 0.32113865 0.32034022 0.31958035 0.3189221  0.3184287\n",
            " 0.31811965 0.31796259 0.31788704 0.31782159 0.31769621 0.31747264\n",
            " 0.3171424  0.31672457 0.31625539 0.31577626 0.31532201 0.31491679\n",
            " 0.31456792 0.31427547 0.31402501 0.31380126 0.31358317 0.31335476\n",
            " 0.31309852 0.31282228 0.31251904 0.31219155 0.31184804 0.31149337\n",
            " 0.31113377 0.31078085 0.31043211 0.31008819 0.30974823 0.30940962\n",
            " 0.30907202 0.3087329  0.30839002 0.30804425 0.30769813 0.30735204\n",
            " 0.30700356 0.3066608  0.30632162 0.30598769]\n",
            "5 year output [[0.30565956]]\n",
            "6 year input [0.26530612 0.44897959 0.26530612 0.28571429 0.30612245 0.28571429\n",
            " 0.3877551  0.24489796 0.36734694 0.2244898  0.26530612 0.57142857\n",
            " 0.34693878 0.44897959 0.28571429 0.30612245 0.40816327 0.2244898\n",
            " 0.40816327 0.36734694 0.34693878 0.26530612 0.36734694 0.32653061\n",
            " 0.3877551  0.26530612 0.3877551  0.26530612 0.48979592 0.24489796\n",
            " 0.36734694 0.34693878 0.34693878 0.32653061 0.30612245 0.36734694\n",
            " 0.42857143 0.26530612 0.3877551  0.24489796 0.44897959 0.34693878\n",
            " 0.40816327 0.40816327 0.26530612 0.34693878 0.36734694 0.2244898\n",
            " 0.40816327 0.46938776 0.32616693 0.32616693 0.32307282 0.32197884\n",
            " 0.32113865 0.32034022 0.31958035 0.3189221  0.3184287  0.31811965\n",
            " 0.31796259 0.31788704 0.31782159 0.31769621 0.31747264 0.3171424\n",
            " 0.31672457 0.31625539 0.31577626 0.31532201 0.31491679 0.31456792\n",
            " 0.31427547 0.31402501 0.31380126 0.31358317 0.31335476 0.31309852\n",
            " 0.31282228 0.31251904 0.31219155 0.31184804 0.31149337 0.31113377\n",
            " 0.31078085 0.31043211 0.31008819 0.30974823 0.30940962 0.30907202\n",
            " 0.3087329  0.30839002 0.30804425 0.30769813 0.30735204 0.30700356\n",
            " 0.3066608  0.30632162 0.30598769 0.30565956]\n",
            "6 year output [[0.30533546]]\n",
            "7 year input [0.44897959 0.26530612 0.28571429 0.30612245 0.28571429 0.3877551\n",
            " 0.24489796 0.36734694 0.2244898  0.26530612 0.57142857 0.34693878\n",
            " 0.44897959 0.28571429 0.30612245 0.40816327 0.2244898  0.40816327\n",
            " 0.36734694 0.34693878 0.26530612 0.36734694 0.32653061 0.3877551\n",
            " 0.26530612 0.3877551  0.26530612 0.48979592 0.24489796 0.36734694\n",
            " 0.34693878 0.34693878 0.32653061 0.30612245 0.36734694 0.42857143\n",
            " 0.26530612 0.3877551  0.24489796 0.44897959 0.34693878 0.40816327\n",
            " 0.40816327 0.26530612 0.34693878 0.36734694 0.2244898  0.40816327\n",
            " 0.46938776 0.32616693 0.32616693 0.32307282 0.32197884 0.32113865\n",
            " 0.32034022 0.31958035 0.3189221  0.3184287  0.31811965 0.31796259\n",
            " 0.31788704 0.31782159 0.31769621 0.31747264 0.3171424  0.31672457\n",
            " 0.31625539 0.31577626 0.31532201 0.31491679 0.31456792 0.31427547\n",
            " 0.31402501 0.31380126 0.31358317 0.31335476 0.31309852 0.31282228\n",
            " 0.31251904 0.31219155 0.31184804 0.31149337 0.31113377 0.31078085\n",
            " 0.31043211 0.31008819 0.30974823 0.30940962 0.30907202 0.3087329\n",
            " 0.30839002 0.30804425 0.30769813 0.30735204 0.30700356 0.3066608\n",
            " 0.30632162 0.30598769 0.30565956 0.30533546]\n",
            "7 year output [[0.30501997]]\n",
            "8 year input [0.26530612 0.28571429 0.30612245 0.28571429 0.3877551  0.24489796\n",
            " 0.36734694 0.2244898  0.26530612 0.57142857 0.34693878 0.44897959\n",
            " 0.28571429 0.30612245 0.40816327 0.2244898  0.40816327 0.36734694\n",
            " 0.34693878 0.26530612 0.36734694 0.32653061 0.3877551  0.26530612\n",
            " 0.3877551  0.26530612 0.48979592 0.24489796 0.36734694 0.34693878\n",
            " 0.34693878 0.32653061 0.30612245 0.36734694 0.42857143 0.26530612\n",
            " 0.3877551  0.24489796 0.44897959 0.34693878 0.40816327 0.40816327\n",
            " 0.26530612 0.34693878 0.36734694 0.2244898  0.40816327 0.46938776\n",
            " 0.32616693 0.32616693 0.32307282 0.32197884 0.32113865 0.32034022\n",
            " 0.31958035 0.3189221  0.3184287  0.31811965 0.31796259 0.31788704\n",
            " 0.31782159 0.31769621 0.31747264 0.3171424  0.31672457 0.31625539\n",
            " 0.31577626 0.31532201 0.31491679 0.31456792 0.31427547 0.31402501\n",
            " 0.31380126 0.31358317 0.31335476 0.31309852 0.31282228 0.31251904\n",
            " 0.31219155 0.31184804 0.31149337 0.31113377 0.31078085 0.31043211\n",
            " 0.31008819 0.30974823 0.30940962 0.30907202 0.3087329  0.30839002\n",
            " 0.30804425 0.30769813 0.30735204 0.30700356 0.3066608  0.30632162\n",
            " 0.30598769 0.30565956 0.30533546 0.30501997]\n",
            "8 year output [[0.30470774]]\n",
            "9 year input [0.28571429 0.30612245 0.28571429 0.3877551  0.24489796 0.36734694\n",
            " 0.2244898  0.26530612 0.57142857 0.34693878 0.44897959 0.28571429\n",
            " 0.30612245 0.40816327 0.2244898  0.40816327 0.36734694 0.34693878\n",
            " 0.26530612 0.36734694 0.32653061 0.3877551  0.26530612 0.3877551\n",
            " 0.26530612 0.48979592 0.24489796 0.36734694 0.34693878 0.34693878\n",
            " 0.32653061 0.30612245 0.36734694 0.42857143 0.26530612 0.3877551\n",
            " 0.24489796 0.44897959 0.34693878 0.40816327 0.40816327 0.26530612\n",
            " 0.34693878 0.36734694 0.2244898  0.40816327 0.46938776 0.32616693\n",
            " 0.32616693 0.32307282 0.32197884 0.32113865 0.32034022 0.31958035\n",
            " 0.3189221  0.3184287  0.31811965 0.31796259 0.31788704 0.31782159\n",
            " 0.31769621 0.31747264 0.3171424  0.31672457 0.31625539 0.31577626\n",
            " 0.31532201 0.31491679 0.31456792 0.31427547 0.31402501 0.31380126\n",
            " 0.31358317 0.31335476 0.31309852 0.31282228 0.31251904 0.31219155\n",
            " 0.31184804 0.31149337 0.31113377 0.31078085 0.31043211 0.31008819\n",
            " 0.30974823 0.30940962 0.30907202 0.3087329  0.30839002 0.30804425\n",
            " 0.30769813 0.30735204 0.30700356 0.3066608  0.30632162 0.30598769\n",
            " 0.30565956 0.30533546 0.30501997 0.30470774]\n",
            "9 year output [[0.30440357]]\n",
            "10 year input [0.30612245 0.28571429 0.3877551  0.24489796 0.36734694 0.2244898\n",
            " 0.26530612 0.57142857 0.34693878 0.44897959 0.28571429 0.30612245\n",
            " 0.40816327 0.2244898  0.40816327 0.36734694 0.34693878 0.26530612\n",
            " 0.36734694 0.32653061 0.3877551  0.26530612 0.3877551  0.26530612\n",
            " 0.48979592 0.24489796 0.36734694 0.34693878 0.34693878 0.32653061\n",
            " 0.30612245 0.36734694 0.42857143 0.26530612 0.3877551  0.24489796\n",
            " 0.44897959 0.34693878 0.40816327 0.40816327 0.26530612 0.34693878\n",
            " 0.36734694 0.2244898  0.40816327 0.46938776 0.32616693 0.32616693\n",
            " 0.32307282 0.32197884 0.32113865 0.32034022 0.31958035 0.3189221\n",
            " 0.3184287  0.31811965 0.31796259 0.31788704 0.31782159 0.31769621\n",
            " 0.31747264 0.3171424  0.31672457 0.31625539 0.31577626 0.31532201\n",
            " 0.31491679 0.31456792 0.31427547 0.31402501 0.31380126 0.31358317\n",
            " 0.31335476 0.31309852 0.31282228 0.31251904 0.31219155 0.31184804\n",
            " 0.31149337 0.31113377 0.31078085 0.31043211 0.31008819 0.30974823\n",
            " 0.30940962 0.30907202 0.3087329  0.30839002 0.30804425 0.30769813\n",
            " 0.30735204 0.30700356 0.3066608  0.30632162 0.30598769 0.30565956\n",
            " 0.30533546 0.30501997 0.30470774 0.30440357]\n",
            "10 year output [[0.30410424]]\n",
            "11 year input [0.28571429 0.3877551  0.24489796 0.36734694 0.2244898  0.26530612\n",
            " 0.57142857 0.34693878 0.44897959 0.28571429 0.30612245 0.40816327\n",
            " 0.2244898  0.40816327 0.36734694 0.34693878 0.26530612 0.36734694\n",
            " 0.32653061 0.3877551  0.26530612 0.3877551  0.26530612 0.48979592\n",
            " 0.24489796 0.36734694 0.34693878 0.34693878 0.32653061 0.30612245\n",
            " 0.36734694 0.42857143 0.26530612 0.3877551  0.24489796 0.44897959\n",
            " 0.34693878 0.40816327 0.40816327 0.26530612 0.34693878 0.36734694\n",
            " 0.2244898  0.40816327 0.46938776 0.32616693 0.32616693 0.32307282\n",
            " 0.32197884 0.32113865 0.32034022 0.31958035 0.3189221  0.3184287\n",
            " 0.31811965 0.31796259 0.31788704 0.31782159 0.31769621 0.31747264\n",
            " 0.3171424  0.31672457 0.31625539 0.31577626 0.31532201 0.31491679\n",
            " 0.31456792 0.31427547 0.31402501 0.31380126 0.31358317 0.31335476\n",
            " 0.31309852 0.31282228 0.31251904 0.31219155 0.31184804 0.31149337\n",
            " 0.31113377 0.31078085 0.31043211 0.31008819 0.30974823 0.30940962\n",
            " 0.30907202 0.3087329  0.30839002 0.30804425 0.30769813 0.30735204\n",
            " 0.30700356 0.3066608  0.30632162 0.30598769 0.30565956 0.30533546\n",
            " 0.30501997 0.30470774 0.30440357 0.30410424]\n",
            "11 year output [[0.30380955]]\n",
            "12 year input [0.3877551  0.24489796 0.36734694 0.2244898  0.26530612 0.57142857\n",
            " 0.34693878 0.44897959 0.28571429 0.30612245 0.40816327 0.2244898\n",
            " 0.40816327 0.36734694 0.34693878 0.26530612 0.36734694 0.32653061\n",
            " 0.3877551  0.26530612 0.3877551  0.26530612 0.48979592 0.24489796\n",
            " 0.36734694 0.34693878 0.34693878 0.32653061 0.30612245 0.36734694\n",
            " 0.42857143 0.26530612 0.3877551  0.24489796 0.44897959 0.34693878\n",
            " 0.40816327 0.40816327 0.26530612 0.34693878 0.36734694 0.2244898\n",
            " 0.40816327 0.46938776 0.32616693 0.32616693 0.32307282 0.32197884\n",
            " 0.32113865 0.32034022 0.31958035 0.3189221  0.3184287  0.31811965\n",
            " 0.31796259 0.31788704 0.31782159 0.31769621 0.31747264 0.3171424\n",
            " 0.31672457 0.31625539 0.31577626 0.31532201 0.31491679 0.31456792\n",
            " 0.31427547 0.31402501 0.31380126 0.31358317 0.31335476 0.31309852\n",
            " 0.31282228 0.31251904 0.31219155 0.31184804 0.31149337 0.31113377\n",
            " 0.31078085 0.31043211 0.31008819 0.30974823 0.30940962 0.30907202\n",
            " 0.3087329  0.30839002 0.30804425 0.30769813 0.30735204 0.30700356\n",
            " 0.3066608  0.30632162 0.30598769 0.30565956 0.30533546 0.30501997\n",
            " 0.30470774 0.30440357 0.30410424 0.30380955]\n",
            "12 year output [[0.30352014]]\n",
            "13 year input [0.24489796 0.36734694 0.2244898  0.26530612 0.57142857 0.34693878\n",
            " 0.44897959 0.28571429 0.30612245 0.40816327 0.2244898  0.40816327\n",
            " 0.36734694 0.34693878 0.26530612 0.36734694 0.32653061 0.3877551\n",
            " 0.26530612 0.3877551  0.26530612 0.48979592 0.24489796 0.36734694\n",
            " 0.34693878 0.34693878 0.32653061 0.30612245 0.36734694 0.42857143\n",
            " 0.26530612 0.3877551  0.24489796 0.44897959 0.34693878 0.40816327\n",
            " 0.40816327 0.26530612 0.34693878 0.36734694 0.2244898  0.40816327\n",
            " 0.46938776 0.32616693 0.32616693 0.32307282 0.32197884 0.32113865\n",
            " 0.32034022 0.31958035 0.3189221  0.3184287  0.31811965 0.31796259\n",
            " 0.31788704 0.31782159 0.31769621 0.31747264 0.3171424  0.31672457\n",
            " 0.31625539 0.31577626 0.31532201 0.31491679 0.31456792 0.31427547\n",
            " 0.31402501 0.31380126 0.31358317 0.31335476 0.31309852 0.31282228\n",
            " 0.31251904 0.31219155 0.31184804 0.31149337 0.31113377 0.31078085\n",
            " 0.31043211 0.31008819 0.30974823 0.30940962 0.30907202 0.3087329\n",
            " 0.30839002 0.30804425 0.30769813 0.30735204 0.30700356 0.3066608\n",
            " 0.30632162 0.30598769 0.30565956 0.30533546 0.30501997 0.30470774\n",
            " 0.30440357 0.30410424 0.30380955 0.30352014]\n",
            "13 year output [[0.30323339]]\n",
            "14 year input [0.36734694 0.2244898  0.26530612 0.57142857 0.34693878 0.44897959\n",
            " 0.28571429 0.30612245 0.40816327 0.2244898  0.40816327 0.36734694\n",
            " 0.34693878 0.26530612 0.36734694 0.32653061 0.3877551  0.26530612\n",
            " 0.3877551  0.26530612 0.48979592 0.24489796 0.36734694 0.34693878\n",
            " 0.34693878 0.32653061 0.30612245 0.36734694 0.42857143 0.26530612\n",
            " 0.3877551  0.24489796 0.44897959 0.34693878 0.40816327 0.40816327\n",
            " 0.26530612 0.34693878 0.36734694 0.2244898  0.40816327 0.46938776\n",
            " 0.32616693 0.32616693 0.32307282 0.32197884 0.32113865 0.32034022\n",
            " 0.31958035 0.3189221  0.3184287  0.31811965 0.31796259 0.31788704\n",
            " 0.31782159 0.31769621 0.31747264 0.3171424  0.31672457 0.31625539\n",
            " 0.31577626 0.31532201 0.31491679 0.31456792 0.31427547 0.31402501\n",
            " 0.31380126 0.31358317 0.31335476 0.31309852 0.31282228 0.31251904\n",
            " 0.31219155 0.31184804 0.31149337 0.31113377 0.31078085 0.31043211\n",
            " 0.31008819 0.30974823 0.30940962 0.30907202 0.3087329  0.30839002\n",
            " 0.30804425 0.30769813 0.30735204 0.30700356 0.3066608  0.30632162\n",
            " 0.30598769 0.30565956 0.30533546 0.30501997 0.30470774 0.30440357\n",
            " 0.30410424 0.30380955 0.30352014 0.30323339]\n",
            "14 year output [[0.30295482]]\n",
            "15 year input [0.2244898  0.26530612 0.57142857 0.34693878 0.44897959 0.28571429\n",
            " 0.30612245 0.40816327 0.2244898  0.40816327 0.36734694 0.34693878\n",
            " 0.26530612 0.36734694 0.32653061 0.3877551  0.26530612 0.3877551\n",
            " 0.26530612 0.48979592 0.24489796 0.36734694 0.34693878 0.34693878\n",
            " 0.32653061 0.30612245 0.36734694 0.42857143 0.26530612 0.3877551\n",
            " 0.24489796 0.44897959 0.34693878 0.40816327 0.40816327 0.26530612\n",
            " 0.34693878 0.36734694 0.2244898  0.40816327 0.46938776 0.32616693\n",
            " 0.32616693 0.32307282 0.32197884 0.32113865 0.32034022 0.31958035\n",
            " 0.3189221  0.3184287  0.31811965 0.31796259 0.31788704 0.31782159\n",
            " 0.31769621 0.31747264 0.3171424  0.31672457 0.31625539 0.31577626\n",
            " 0.31532201 0.31491679 0.31456792 0.31427547 0.31402501 0.31380126\n",
            " 0.31358317 0.31335476 0.31309852 0.31282228 0.31251904 0.31219155\n",
            " 0.31184804 0.31149337 0.31113377 0.31078085 0.31043211 0.31008819\n",
            " 0.30974823 0.30940962 0.30907202 0.3087329  0.30839002 0.30804425\n",
            " 0.30769813 0.30735204 0.30700356 0.3066608  0.30632162 0.30598769\n",
            " 0.30565956 0.30533546 0.30501997 0.30470774 0.30440357 0.30410424\n",
            " 0.30380955 0.30352014 0.30323339 0.30295482]\n",
            "15 year output [[0.30267876]]\n",
            "16 year input [0.26530612 0.57142857 0.34693878 0.44897959 0.28571429 0.30612245\n",
            " 0.40816327 0.2244898  0.40816327 0.36734694 0.34693878 0.26530612\n",
            " 0.36734694 0.32653061 0.3877551  0.26530612 0.3877551  0.26530612\n",
            " 0.48979592 0.24489796 0.36734694 0.34693878 0.34693878 0.32653061\n",
            " 0.30612245 0.36734694 0.42857143 0.26530612 0.3877551  0.24489796\n",
            " 0.44897959 0.34693878 0.40816327 0.40816327 0.26530612 0.34693878\n",
            " 0.36734694 0.2244898  0.40816327 0.46938776 0.32616693 0.32616693\n",
            " 0.32307282 0.32197884 0.32113865 0.32034022 0.31958035 0.3189221\n",
            " 0.3184287  0.31811965 0.31796259 0.31788704 0.31782159 0.31769621\n",
            " 0.31747264 0.3171424  0.31672457 0.31625539 0.31577626 0.31532201\n",
            " 0.31491679 0.31456792 0.31427547 0.31402501 0.31380126 0.31358317\n",
            " 0.31335476 0.31309852 0.31282228 0.31251904 0.31219155 0.31184804\n",
            " 0.31149337 0.31113377 0.31078085 0.31043211 0.31008819 0.30974823\n",
            " 0.30940962 0.30907202 0.3087329  0.30839002 0.30804425 0.30769813\n",
            " 0.30735204 0.30700356 0.3066608  0.30632162 0.30598769 0.30565956\n",
            " 0.30533546 0.30501997 0.30470774 0.30440357 0.30410424 0.30380955\n",
            " 0.30352014 0.30323339 0.30295482 0.30267876]\n",
            "16 year output [[0.30241072]]\n",
            "17 year input [0.57142857 0.34693878 0.44897959 0.28571429 0.30612245 0.40816327\n",
            " 0.2244898  0.40816327 0.36734694 0.34693878 0.26530612 0.36734694\n",
            " 0.32653061 0.3877551  0.26530612 0.3877551  0.26530612 0.48979592\n",
            " 0.24489796 0.36734694 0.34693878 0.34693878 0.32653061 0.30612245\n",
            " 0.36734694 0.42857143 0.26530612 0.3877551  0.24489796 0.44897959\n",
            " 0.34693878 0.40816327 0.40816327 0.26530612 0.34693878 0.36734694\n",
            " 0.2244898  0.40816327 0.46938776 0.32616693 0.32616693 0.32307282\n",
            " 0.32197884 0.32113865 0.32034022 0.31958035 0.3189221  0.3184287\n",
            " 0.31811965 0.31796259 0.31788704 0.31782159 0.31769621 0.31747264\n",
            " 0.3171424  0.31672457 0.31625539 0.31577626 0.31532201 0.31491679\n",
            " 0.31456792 0.31427547 0.31402501 0.31380126 0.31358317 0.31335476\n",
            " 0.31309852 0.31282228 0.31251904 0.31219155 0.31184804 0.31149337\n",
            " 0.31113377 0.31078085 0.31043211 0.31008819 0.30974823 0.30940962\n",
            " 0.30907202 0.3087329  0.30839002 0.30804425 0.30769813 0.30735204\n",
            " 0.30700356 0.3066608  0.30632162 0.30598769 0.30565956 0.30533546\n",
            " 0.30501997 0.30470774 0.30440357 0.30410424 0.30380955 0.30352014\n",
            " 0.30323339 0.30295482 0.30267876 0.30241072]\n",
            "17 year output [[0.30214706]]\n",
            "18 year input [0.34693878 0.44897959 0.28571429 0.30612245 0.40816327 0.2244898\n",
            " 0.40816327 0.36734694 0.34693878 0.26530612 0.36734694 0.32653061\n",
            " 0.3877551  0.26530612 0.3877551  0.26530612 0.48979592 0.24489796\n",
            " 0.36734694 0.34693878 0.34693878 0.32653061 0.30612245 0.36734694\n",
            " 0.42857143 0.26530612 0.3877551  0.24489796 0.44897959 0.34693878\n",
            " 0.40816327 0.40816327 0.26530612 0.34693878 0.36734694 0.2244898\n",
            " 0.40816327 0.46938776 0.32616693 0.32616693 0.32307282 0.32197884\n",
            " 0.32113865 0.32034022 0.31958035 0.3189221  0.3184287  0.31811965\n",
            " 0.31796259 0.31788704 0.31782159 0.31769621 0.31747264 0.3171424\n",
            " 0.31672457 0.31625539 0.31577626 0.31532201 0.31491679 0.31456792\n",
            " 0.31427547 0.31402501 0.31380126 0.31358317 0.31335476 0.31309852\n",
            " 0.31282228 0.31251904 0.31219155 0.31184804 0.31149337 0.31113377\n",
            " 0.31078085 0.31043211 0.31008819 0.30974823 0.30940962 0.30907202\n",
            " 0.3087329  0.30839002 0.30804425 0.30769813 0.30735204 0.30700356\n",
            " 0.3066608  0.30632162 0.30598769 0.30565956 0.30533546 0.30501997\n",
            " 0.30470774 0.30440357 0.30410424 0.30380955 0.30352014 0.30323339\n",
            " 0.30295482 0.30267876 0.30241072 0.30214706]\n",
            "18 year output [[0.301884]]\n",
            "19 year input [0.44897959 0.28571429 0.30612245 0.40816327 0.2244898  0.40816327\n",
            " 0.36734694 0.34693878 0.26530612 0.36734694 0.32653061 0.3877551\n",
            " 0.26530612 0.3877551  0.26530612 0.48979592 0.24489796 0.36734694\n",
            " 0.34693878 0.34693878 0.32653061 0.30612245 0.36734694 0.42857143\n",
            " 0.26530612 0.3877551  0.24489796 0.44897959 0.34693878 0.40816327\n",
            " 0.40816327 0.26530612 0.34693878 0.36734694 0.2244898  0.40816327\n",
            " 0.46938776 0.32616693 0.32616693 0.32307282 0.32197884 0.32113865\n",
            " 0.32034022 0.31958035 0.3189221  0.3184287  0.31811965 0.31796259\n",
            " 0.31788704 0.31782159 0.31769621 0.31747264 0.3171424  0.31672457\n",
            " 0.31625539 0.31577626 0.31532201 0.31491679 0.31456792 0.31427547\n",
            " 0.31402501 0.31380126 0.31358317 0.31335476 0.31309852 0.31282228\n",
            " 0.31251904 0.31219155 0.31184804 0.31149337 0.31113377 0.31078085\n",
            " 0.31043211 0.31008819 0.30974823 0.30940962 0.30907202 0.3087329\n",
            " 0.30839002 0.30804425 0.30769813 0.30735204 0.30700356 0.3066608\n",
            " 0.30632162 0.30598769 0.30565956 0.30533546 0.30501997 0.30470774\n",
            " 0.30440357 0.30410424 0.30380955 0.30352014 0.30323339 0.30295482\n",
            " 0.30267876 0.30241072 0.30214706 0.301884  ]\n",
            "19 year output [[0.3016296]]\n",
            "20 year input [0.28571429 0.30612245 0.40816327 0.2244898  0.40816327 0.36734694\n",
            " 0.34693878 0.26530612 0.36734694 0.32653061 0.3877551  0.26530612\n",
            " 0.3877551  0.26530612 0.48979592 0.24489796 0.36734694 0.34693878\n",
            " 0.34693878 0.32653061 0.30612245 0.36734694 0.42857143 0.26530612\n",
            " 0.3877551  0.24489796 0.44897959 0.34693878 0.40816327 0.40816327\n",
            " 0.26530612 0.34693878 0.36734694 0.2244898  0.40816327 0.46938776\n",
            " 0.32616693 0.32616693 0.32307282 0.32197884 0.32113865 0.32034022\n",
            " 0.31958035 0.3189221  0.3184287  0.31811965 0.31796259 0.31788704\n",
            " 0.31782159 0.31769621 0.31747264 0.3171424  0.31672457 0.31625539\n",
            " 0.31577626 0.31532201 0.31491679 0.31456792 0.31427547 0.31402501\n",
            " 0.31380126 0.31358317 0.31335476 0.31309852 0.31282228 0.31251904\n",
            " 0.31219155 0.31184804 0.31149337 0.31113377 0.31078085 0.31043211\n",
            " 0.31008819 0.30974823 0.30940962 0.30907202 0.3087329  0.30839002\n",
            " 0.30804425 0.30769813 0.30735204 0.30700356 0.3066608  0.30632162\n",
            " 0.30598769 0.30565956 0.30533546 0.30501997 0.30470774 0.30440357\n",
            " 0.30410424 0.30380955 0.30352014 0.30323339 0.30295482 0.30267876\n",
            " 0.30241072 0.30214706 0.301884   0.3016296 ]\n",
            "20 year output [[0.30137795]]\n",
            "21 year input [0.30612245 0.40816327 0.2244898  0.40816327 0.36734694 0.34693878\n",
            " 0.26530612 0.36734694 0.32653061 0.3877551  0.26530612 0.3877551\n",
            " 0.26530612 0.48979592 0.24489796 0.36734694 0.34693878 0.34693878\n",
            " 0.32653061 0.30612245 0.36734694 0.42857143 0.26530612 0.3877551\n",
            " 0.24489796 0.44897959 0.34693878 0.40816327 0.40816327 0.26530612\n",
            " 0.34693878 0.36734694 0.2244898  0.40816327 0.46938776 0.32616693\n",
            " 0.32616693 0.32307282 0.32197884 0.32113865 0.32034022 0.31958035\n",
            " 0.3189221  0.3184287  0.31811965 0.31796259 0.31788704 0.31782159\n",
            " 0.31769621 0.31747264 0.3171424  0.31672457 0.31625539 0.31577626\n",
            " 0.31532201 0.31491679 0.31456792 0.31427547 0.31402501 0.31380126\n",
            " 0.31358317 0.31335476 0.31309852 0.31282228 0.31251904 0.31219155\n",
            " 0.31184804 0.31149337 0.31113377 0.31078085 0.31043211 0.31008819\n",
            " 0.30974823 0.30940962 0.30907202 0.3087329  0.30839002 0.30804425\n",
            " 0.30769813 0.30735204 0.30700356 0.3066608  0.30632162 0.30598769\n",
            " 0.30565956 0.30533546 0.30501997 0.30470774 0.30440357 0.30410424\n",
            " 0.30380955 0.30352014 0.30323339 0.30295482 0.30267876 0.30241072\n",
            " 0.30214706 0.301884   0.3016296  0.30137795]\n",
            "21 year output [[0.30113447]]\n",
            "22 year input [0.40816327 0.2244898  0.40816327 0.36734694 0.34693878 0.26530612\n",
            " 0.36734694 0.32653061 0.3877551  0.26530612 0.3877551  0.26530612\n",
            " 0.48979592 0.24489796 0.36734694 0.34693878 0.34693878 0.32653061\n",
            " 0.30612245 0.36734694 0.42857143 0.26530612 0.3877551  0.24489796\n",
            " 0.44897959 0.34693878 0.40816327 0.40816327 0.26530612 0.34693878\n",
            " 0.36734694 0.2244898  0.40816327 0.46938776 0.32616693 0.32616693\n",
            " 0.32307282 0.32197884 0.32113865 0.32034022 0.31958035 0.3189221\n",
            " 0.3184287  0.31811965 0.31796259 0.31788704 0.31782159 0.31769621\n",
            " 0.31747264 0.3171424  0.31672457 0.31625539 0.31577626 0.31532201\n",
            " 0.31491679 0.31456792 0.31427547 0.31402501 0.31380126 0.31358317\n",
            " 0.31335476 0.31309852 0.31282228 0.31251904 0.31219155 0.31184804\n",
            " 0.31149337 0.31113377 0.31078085 0.31043211 0.31008819 0.30974823\n",
            " 0.30940962 0.30907202 0.3087329  0.30839002 0.30804425 0.30769813\n",
            " 0.30735204 0.30700356 0.3066608  0.30632162 0.30598769 0.30565956\n",
            " 0.30533546 0.30501997 0.30470774 0.30440357 0.30410424 0.30380955\n",
            " 0.30352014 0.30323339 0.30295482 0.30267876 0.30241072 0.30214706\n",
            " 0.301884   0.3016296  0.30137795 0.30113447]\n",
            "22 year output [[0.30089524]]\n",
            "23 year input [0.2244898  0.40816327 0.36734694 0.34693878 0.26530612 0.36734694\n",
            " 0.32653061 0.3877551  0.26530612 0.3877551  0.26530612 0.48979592\n",
            " 0.24489796 0.36734694 0.34693878 0.34693878 0.32653061 0.30612245\n",
            " 0.36734694 0.42857143 0.26530612 0.3877551  0.24489796 0.44897959\n",
            " 0.34693878 0.40816327 0.40816327 0.26530612 0.34693878 0.36734694\n",
            " 0.2244898  0.40816327 0.46938776 0.32616693 0.32616693 0.32307282\n",
            " 0.32197884 0.32113865 0.32034022 0.31958035 0.3189221  0.3184287\n",
            " 0.31811965 0.31796259 0.31788704 0.31782159 0.31769621 0.31747264\n",
            " 0.3171424  0.31672457 0.31625539 0.31577626 0.31532201 0.31491679\n",
            " 0.31456792 0.31427547 0.31402501 0.31380126 0.31358317 0.31335476\n",
            " 0.31309852 0.31282228 0.31251904 0.31219155 0.31184804 0.31149337\n",
            " 0.31113377 0.31078085 0.31043211 0.31008819 0.30974823 0.30940962\n",
            " 0.30907202 0.3087329  0.30839002 0.30804425 0.30769813 0.30735204\n",
            " 0.30700356 0.3066608  0.30632162 0.30598769 0.30565956 0.30533546\n",
            " 0.30501997 0.30470774 0.30440357 0.30410424 0.30380955 0.30352014\n",
            " 0.30323339 0.30295482 0.30267876 0.30241072 0.30214706 0.301884\n",
            " 0.3016296  0.30137795 0.30113447 0.30089524]\n",
            "23 year output [[0.30065808]]\n",
            "24 year input [0.40816327 0.36734694 0.34693878 0.26530612 0.36734694 0.32653061\n",
            " 0.3877551  0.26530612 0.3877551  0.26530612 0.48979592 0.24489796\n",
            " 0.36734694 0.34693878 0.34693878 0.32653061 0.30612245 0.36734694\n",
            " 0.42857143 0.26530612 0.3877551  0.24489796 0.44897959 0.34693878\n",
            " 0.40816327 0.40816327 0.26530612 0.34693878 0.36734694 0.2244898\n",
            " 0.40816327 0.46938776 0.32616693 0.32616693 0.32307282 0.32197884\n",
            " 0.32113865 0.32034022 0.31958035 0.3189221  0.3184287  0.31811965\n",
            " 0.31796259 0.31788704 0.31782159 0.31769621 0.31747264 0.3171424\n",
            " 0.31672457 0.31625539 0.31577626 0.31532201 0.31491679 0.31456792\n",
            " 0.31427547 0.31402501 0.31380126 0.31358317 0.31335476 0.31309852\n",
            " 0.31282228 0.31251904 0.31219155 0.31184804 0.31149337 0.31113377\n",
            " 0.31078085 0.31043211 0.31008819 0.30974823 0.30940962 0.30907202\n",
            " 0.3087329  0.30839002 0.30804425 0.30769813 0.30735204 0.30700356\n",
            " 0.3066608  0.30632162 0.30598769 0.30565956 0.30533546 0.30501997\n",
            " 0.30470774 0.30440357 0.30410424 0.30380955 0.30352014 0.30323339\n",
            " 0.30295482 0.30267876 0.30241072 0.30214706 0.301884   0.3016296\n",
            " 0.30137795 0.30113447 0.30089524 0.30065808]\n",
            "24 year output [[0.30042934]]\n",
            "25 year input [0.36734694 0.34693878 0.26530612 0.36734694 0.32653061 0.3877551\n",
            " 0.26530612 0.3877551  0.26530612 0.48979592 0.24489796 0.36734694\n",
            " 0.34693878 0.34693878 0.32653061 0.30612245 0.36734694 0.42857143\n",
            " 0.26530612 0.3877551  0.24489796 0.44897959 0.34693878 0.40816327\n",
            " 0.40816327 0.26530612 0.34693878 0.36734694 0.2244898  0.40816327\n",
            " 0.46938776 0.32616693 0.32616693 0.32307282 0.32197884 0.32113865\n",
            " 0.32034022 0.31958035 0.3189221  0.3184287  0.31811965 0.31796259\n",
            " 0.31788704 0.31782159 0.31769621 0.31747264 0.3171424  0.31672457\n",
            " 0.31625539 0.31577626 0.31532201 0.31491679 0.31456792 0.31427547\n",
            " 0.31402501 0.31380126 0.31358317 0.31335476 0.31309852 0.31282228\n",
            " 0.31251904 0.31219155 0.31184804 0.31149337 0.31113377 0.31078085\n",
            " 0.31043211 0.31008819 0.30974823 0.30940962 0.30907202 0.3087329\n",
            " 0.30839002 0.30804425 0.30769813 0.30735204 0.30700356 0.3066608\n",
            " 0.30632162 0.30598769 0.30565956 0.30533546 0.30501997 0.30470774\n",
            " 0.30440357 0.30410424 0.30380955 0.30352014 0.30323339 0.30295482\n",
            " 0.30267876 0.30241072 0.30214706 0.301884   0.3016296  0.30137795\n",
            " 0.30113447 0.30089524 0.30065808 0.30042934]\n",
            "25 year output [[0.30020055]]\n",
            "26 year input [0.34693878 0.26530612 0.36734694 0.32653061 0.3877551  0.26530612\n",
            " 0.3877551  0.26530612 0.48979592 0.24489796 0.36734694 0.34693878\n",
            " 0.34693878 0.32653061 0.30612245 0.36734694 0.42857143 0.26530612\n",
            " 0.3877551  0.24489796 0.44897959 0.34693878 0.40816327 0.40816327\n",
            " 0.26530612 0.34693878 0.36734694 0.2244898  0.40816327 0.46938776\n",
            " 0.32616693 0.32616693 0.32307282 0.32197884 0.32113865 0.32034022\n",
            " 0.31958035 0.3189221  0.3184287  0.31811965 0.31796259 0.31788704\n",
            " 0.31782159 0.31769621 0.31747264 0.3171424  0.31672457 0.31625539\n",
            " 0.31577626 0.31532201 0.31491679 0.31456792 0.31427547 0.31402501\n",
            " 0.31380126 0.31358317 0.31335476 0.31309852 0.31282228 0.31251904\n",
            " 0.31219155 0.31184804 0.31149337 0.31113377 0.31078085 0.31043211\n",
            " 0.31008819 0.30974823 0.30940962 0.30907202 0.3087329  0.30839002\n",
            " 0.30804425 0.30769813 0.30735204 0.30700356 0.3066608  0.30632162\n",
            " 0.30598769 0.30565956 0.30533546 0.30501997 0.30470774 0.30440357\n",
            " 0.30410424 0.30380955 0.30352014 0.30323339 0.30295482 0.30267876\n",
            " 0.30241072 0.30214706 0.301884   0.3016296  0.30137795 0.30113447\n",
            " 0.30089524 0.30065808 0.30042934 0.30020055]\n",
            "26 year output [[0.2999764]]\n",
            "27 year input [0.26530612 0.36734694 0.32653061 0.3877551  0.26530612 0.3877551\n",
            " 0.26530612 0.48979592 0.24489796 0.36734694 0.34693878 0.34693878\n",
            " 0.32653061 0.30612245 0.36734694 0.42857143 0.26530612 0.3877551\n",
            " 0.24489796 0.44897959 0.34693878 0.40816327 0.40816327 0.26530612\n",
            " 0.34693878 0.36734694 0.2244898  0.40816327 0.46938776 0.32616693\n",
            " 0.32616693 0.32307282 0.32197884 0.32113865 0.32034022 0.31958035\n",
            " 0.3189221  0.3184287  0.31811965 0.31796259 0.31788704 0.31782159\n",
            " 0.31769621 0.31747264 0.3171424  0.31672457 0.31625539 0.31577626\n",
            " 0.31532201 0.31491679 0.31456792 0.31427547 0.31402501 0.31380126\n",
            " 0.31358317 0.31335476 0.31309852 0.31282228 0.31251904 0.31219155\n",
            " 0.31184804 0.31149337 0.31113377 0.31078085 0.31043211 0.31008819\n",
            " 0.30974823 0.30940962 0.30907202 0.3087329  0.30839002 0.30804425\n",
            " 0.30769813 0.30735204 0.30700356 0.3066608  0.30632162 0.30598769\n",
            " 0.30565956 0.30533546 0.30501997 0.30470774 0.30440357 0.30410424\n",
            " 0.30380955 0.30352014 0.30323339 0.30295482 0.30267876 0.30241072\n",
            " 0.30214706 0.301884   0.3016296  0.30137795 0.30113447 0.30089524\n",
            " 0.30065808 0.30042934 0.30020055 0.29997641]\n",
            "27 year output [[0.29975632]]\n",
            "28 year input [0.36734694 0.32653061 0.3877551  0.26530612 0.3877551  0.26530612\n",
            " 0.48979592 0.24489796 0.36734694 0.34693878 0.34693878 0.32653061\n",
            " 0.30612245 0.36734694 0.42857143 0.26530612 0.3877551  0.24489796\n",
            " 0.44897959 0.34693878 0.40816327 0.40816327 0.26530612 0.34693878\n",
            " 0.36734694 0.2244898  0.40816327 0.46938776 0.32616693 0.32616693\n",
            " 0.32307282 0.32197884 0.32113865 0.32034022 0.31958035 0.3189221\n",
            " 0.3184287  0.31811965 0.31796259 0.31788704 0.31782159 0.31769621\n",
            " 0.31747264 0.3171424  0.31672457 0.31625539 0.31577626 0.31532201\n",
            " 0.31491679 0.31456792 0.31427547 0.31402501 0.31380126 0.31358317\n",
            " 0.31335476 0.31309852 0.31282228 0.31251904 0.31219155 0.31184804\n",
            " 0.31149337 0.31113377 0.31078085 0.31043211 0.31008819 0.30974823\n",
            " 0.30940962 0.30907202 0.3087329  0.30839002 0.30804425 0.30769813\n",
            " 0.30735204 0.30700356 0.3066608  0.30632162 0.30598769 0.30565956\n",
            " 0.30533546 0.30501997 0.30470774 0.30440357 0.30410424 0.30380955\n",
            " 0.30352014 0.30323339 0.30295482 0.30267876 0.30241072 0.30214706\n",
            " 0.301884   0.3016296  0.30137795 0.30113447 0.30089524 0.30065808\n",
            " 0.30042934 0.30020055 0.29997641 0.29975632]\n",
            "28 year output [[0.29954207]]\n",
            "29 year input [0.32653061 0.3877551  0.26530612 0.3877551  0.26530612 0.48979592\n",
            " 0.24489796 0.36734694 0.34693878 0.34693878 0.32653061 0.30612245\n",
            " 0.36734694 0.42857143 0.26530612 0.3877551  0.24489796 0.44897959\n",
            " 0.34693878 0.40816327 0.40816327 0.26530612 0.34693878 0.36734694\n",
            " 0.2244898  0.40816327 0.46938776 0.32616693 0.32616693 0.32307282\n",
            " 0.32197884 0.32113865 0.32034022 0.31958035 0.3189221  0.3184287\n",
            " 0.31811965 0.31796259 0.31788704 0.31782159 0.31769621 0.31747264\n",
            " 0.3171424  0.31672457 0.31625539 0.31577626 0.31532201 0.31491679\n",
            " 0.31456792 0.31427547 0.31402501 0.31380126 0.31358317 0.31335476\n",
            " 0.31309852 0.31282228 0.31251904 0.31219155 0.31184804 0.31149337\n",
            " 0.31113377 0.31078085 0.31043211 0.31008819 0.30974823 0.30940962\n",
            " 0.30907202 0.3087329  0.30839002 0.30804425 0.30769813 0.30735204\n",
            " 0.30700356 0.3066608  0.30632162 0.30598769 0.30565956 0.30533546\n",
            " 0.30501997 0.30470774 0.30440357 0.30410424 0.30380955 0.30352014\n",
            " 0.30323339 0.30295482 0.30267876 0.30241072 0.30214706 0.301884\n",
            " 0.3016296  0.30137795 0.30113447 0.30089524 0.30065808 0.30042934\n",
            " 0.30020055 0.29997641 0.29975632 0.29954207]\n",
            "29 year output [[0.29932868]]\n",
            "[[0.3073520362377167], [0.30700355768203735], [0.30666080117225647], [0.3063216209411621], [0.305987685918808], [0.30565956234931946], [0.30533546209335327], [0.30501997470855713], [0.30470773577690125], [0.3044035732746124], [0.3041042387485504], [0.3038095533847809], [0.303520143032074], [0.30323338508605957], [0.3029548227787018], [0.30267876386642456], [0.30241072177886963], [0.3021470606327057], [0.3018839955329895], [0.30162960290908813], [0.30137795209884644], [0.30113446712493896], [0.30089524388313293], [0.30065807700157166], [0.3004293441772461], [0.30020055174827576], [0.2999764084815979], [0.29975631833076477], [0.29954206943511963], [0.29932868480682373]]\n"
          ],
          "name": "stdout"
        }
      ]
    },
    {
      "cell_type": "code",
      "metadata": {
        "id": "NpgFdIMAKr_l"
      },
      "source": [
        "day_new=np.arange(1,101)\n",
        "day_pred=np.arange(101,131)"
      ],
      "execution_count": null,
      "outputs": []
    },
    {
      "cell_type": "code",
      "metadata": {
        "id": "vmFG0XS2Kw9D"
      },
      "source": [
        "import matplotlib.pyplot as plt"
      ],
      "execution_count": null,
      "outputs": []
    },
    {
      "cell_type": "code",
      "metadata": {
        "colab": {
          "base_uri": "https://localhost:8080/"
        },
        "id": "XTmwEoKSK0FJ",
        "outputId": "1f566afd-fdcb-49c7-8b56-dc7742b1d4b3"
      },
      "source": [
        "len(df1)"
      ],
      "execution_count": null,
      "outputs": [
        {
          "output_type": "execute_result",
          "data": {
            "text/plain": [
              "14698"
            ]
          },
          "metadata": {
            "tags": []
          },
          "execution_count": 54
        }
      ]
    },
    {
      "cell_type": "code",
      "metadata": {
        "colab": {
          "base_uri": "https://localhost:8080/",
          "height": 283
        },
        "id": "0pPVxsi-K2mw",
        "outputId": "4e514821-1a9b-4b76-f2cd-233e7613159b"
      },
      "source": [
        "plt.plot(day_new,scaler.inverse_transform(df1[14598:]))\n",
        "plt.plot(day_pred,scaler.inverse_transform(lst_output))"
      ],
      "execution_count": null,
      "outputs": [
        {
          "output_type": "execute_result",
          "data": {
            "text/plain": [
              "[<matplotlib.lines.Line2D at 0x7f7026658ad0>]"
            ]
          },
          "metadata": {
            "tags": []
          },
          "execution_count": 55
        },
        {
          "output_type": "display_data",
          "data": {
            "image/png": "[encoded data removed]",
            "text/plain": [
              "<Figure size 432x288 with 1 Axes>"
            ]
          },
          "metadata": {
            "tags": [],
            "needs_background": "light"
          }
        }
      ]
    },
    {
      "cell_type": "code",
      "metadata": {
        "colab": {
          "base_uri": "https://localhost:8080/",
          "height": 283
        },
        "id": "xDtLEILMMpxC",
        "outputId": "40fcf0b3-7a67-4c96-aa87-6501b1c7a277"
      },
      "source": [
        "df3=df1.tolist()\n",
        "df3.extend(lst_output)\n",
        "plt.plot(df3[14645:])"
      ],
      "execution_count": null,
      "outputs": [
        {
          "output_type": "execute_result",
          "data": {
            "text/plain": [
              "[<matplotlib.lines.Line2D at 0x7f70268e8b10>]"
            ]
          },
          "metadata": {
            "tags": []
          },
          "execution_count": 58
        },
        {
          "output_type": "display_data",
          "data": {
            "image/png": "[encoded data removed]",
            "text/plain": [
              "<Figure size 432x288 with 1 Axes>"
            ]
          },
          "metadata": {
            "tags": [],
            "needs_background": "light"
          }
        }
      ]
    }
  ]
}